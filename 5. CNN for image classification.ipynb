{
 "cells": [
  {
   "cell_type": "code",
   "execution_count": 1,
   "metadata": {
    "id": "hEEB-J4NPzwV"
   },
   "outputs": [],
   "source": [
    "import tensorflow as tf\n",
    "import matplotlib.pyplot as plt\n",
    "mnist= tf.keras.datasets.mnist"
   ]
  },
  {
   "cell_type": "code",
   "execution_count": 2,
   "metadata": {
    "colab": {
     "base_uri": "https://localhost:8080/"
    },
    "id": "i51PZcJcP5Qv",
    "outputId": "e8328cb3-6888-4643-d347-7bdeccdc9c60"
   },
   "outputs": [],
   "source": [
    "(x_train,y_train),(x_test,y_test)=mnist.load_data()"
   ]
  },
  {
   "cell_type": "code",
   "execution_count": 3,
   "metadata": {
    "colab": {
     "base_uri": "https://localhost:8080/"
    },
    "id": "THucrfXuP8Bh",
    "outputId": "e5d227f4-c889-4b53-d994-843073fbe675"
   },
   "outputs": [
    {
     "name": "stdout",
     "output_type": "stream",
     "text": [
      "(60000, 28, 28)\n",
      "(60000,)\n"
     ]
    }
   ],
   "source": [
    "print(x_train.shape)\n",
    "print(y_train.shape)"
   ]
  },
  {
   "cell_type": "code",
   "execution_count": 4,
   "metadata": {
    "colab": {
     "base_uri": "https://localhost:8080/"
    },
    "id": "qpAskhZmP_EK",
    "outputId": "c0dd5344-86a1-4ec3-9578-498492fbb25f"
   },
   "outputs": [
    {
     "name": "stdout",
     "output_type": "stream",
     "text": [
      "(10000, 28, 28)\n",
      "(10000,)\n"
     ]
    }
   ],
   "source": [
    "print(x_test.shape)\n",
    "print(y_test.shape)"
   ]
  },
  {
   "cell_type": "code",
   "execution_count": 5,
   "metadata": {
    "colab": {
     "base_uri": "https://localhost:8080/"
    },
    "id": "Nqk168eEQBud",
    "outputId": "cf122232-dd34-4536-91dd-f04b044560c2"
   },
   "outputs": [
    {
     "name": "stdout",
     "output_type": "stream",
     "text": [
      "[[  0   0   0   0   0   0   0   0   0   0   0   0   0   0   0   0   0   0\n",
      "    0   0   0   0   0   0   0   0   0   0]\n",
      " [  0   0   0   0   0   0   0   0   0   0   0   0   0   0   0   0   0   0\n",
      "    0   0   0   0   0   0   0   0   0   0]\n",
      " [  0   0   0   0   0   0   0   0   0   0   0   0   0   0   0   0   0   0\n",
      "    0   0   0   0   0   0   0   0   0   0]\n",
      " [  0   0   0   0   0   0   0   0   0   0   0   0   0   0   0   0   0   0\n",
      "    0   0   0   0   0   0   0   0   0   0]\n",
      " [  0   0   0   0   0   0   0   0   0   0   0   0   0   0   0   0   0   0\n",
      "    0   0   0   0   0   0   0   0   0   0]\n",
      " [  0   0   0   0   0   0   0   0   0   0   0   0   5  63 197   0   0   0\n",
      "    0   0   0   0   0   0   0   0   0   0]\n",
      " [  0   0   0   0   0   0   0   0   0   0   0   0  20 254 230  24   0   0\n",
      "    0   0   0   0   0   0   0   0   0   0]\n",
      " [  0   0   0   0   0   0   0   0   0   0   0   0  20 254 254  48   0   0\n",
      "    0   0   0   0   0   0   0   0   0   0]\n",
      " [  0   0   0   0   0   0   0   0   0   0   0   0  20 254 255  48   0   0\n",
      "    0   0   0   0   0   0   0   0   0   0]\n",
      " [  0   0   0   0   0   0   0   0   0   0   0   0  20 254 254  57   0   0\n",
      "    0   0   0   0   0   0   0   0   0   0]\n",
      " [  0   0   0   0   0   0   0   0   0   0   0   0  20 254 254 108   0   0\n",
      "    0   0   0   0   0   0   0   0   0   0]\n",
      " [  0   0   0   0   0   0   0   0   0   0   0   0  16 239 254 143   0   0\n",
      "    0   0   0   0   0   0   0   0   0   0]\n",
      " [  0   0   0   0   0   0   0   0   0   0   0   0   0 178 254 143   0   0\n",
      "    0   0   0   0   0   0   0   0   0   0]\n",
      " [  0   0   0   0   0   0   0   0   0   0   0   0   0 178 254 143   0   0\n",
      "    0   0   0   0   0   0   0   0   0   0]\n",
      " [  0   0   0   0   0   0   0   0   0   0   0   0   0 178 254 162   0   0\n",
      "    0   0   0   0   0   0   0   0   0   0]\n",
      " [  0   0   0   0   0   0   0   0   0   0   0   0   0 178 254 240   0   0\n",
      "    0   0   0   0   0   0   0   0   0   0]\n",
      " [  0   0   0   0   0   0   0   0   0   0   0   0   0 113 254 240   0   0\n",
      "    0   0   0   0   0   0   0   0   0   0]\n",
      " [  0   0   0   0   0   0   0   0   0   0   0   0   0  83 254 245  31   0\n",
      "    0   0   0   0   0   0   0   0   0   0]\n",
      " [  0   0   0   0   0   0   0   0   0   0   0   0   0  79 254 246  38   0\n",
      "    0   0   0   0   0   0   0   0   0   0]\n",
      " [  0   0   0   0   0   0   0   0   0   0   0   0   0   0 214 254 150   0\n",
      "    0   0   0   0   0   0   0   0   0   0]\n",
      " [  0   0   0   0   0   0   0   0   0   0   0   0   0   0 144 241   8   0\n",
      "    0   0   0   0   0   0   0   0   0   0]\n",
      " [  0   0   0   0   0   0   0   0   0   0   0   0   0   0 144 240   2   0\n",
      "    0   0   0   0   0   0   0   0   0   0]\n",
      " [  0   0   0   0   0   0   0   0   0   0   0   0   0   0 144 254  82   0\n",
      "    0   0   0   0   0   0   0   0   0   0]\n",
      " [  0   0   0   0   0   0   0   0   0   0   0   0   0   0 230 247  40   0\n",
      "    0   0   0   0   0   0   0   0   0   0]\n",
      " [  0   0   0   0   0   0   0   0   0   0   0   0   0   0 168 209  31   0\n",
      "    0   0   0   0   0   0   0   0   0   0]\n",
      " [  0   0   0   0   0   0   0   0   0   0   0   0   0   0   0   0   0   0\n",
      "    0   0   0   0   0   0   0   0   0   0]\n",
      " [  0   0   0   0   0   0   0   0   0   0   0   0   0   0   0   0   0   0\n",
      "    0   0   0   0   0   0   0   0   0   0]\n",
      " [  0   0   0   0   0   0   0   0   0   0   0   0   0   0   0   0   0   0\n",
      "    0   0   0   0   0   0   0   0   0   0]]\n"
     ]
    }
   ],
   "source": [
    "print(x_train[8])"
   ]
  },
  {
   "cell_type": "code",
   "execution_count": 6,
   "metadata": {
    "colab": {
     "base_uri": "https://localhost:8080/",
     "height": 282
    },
    "id": "ERYZjuiZQEUy",
    "outputId": "9a45344f-c1fa-49be-bdba-f6cd67550a55"
   },
   "outputs": [
    {
     "data": {
      "text/plain": [
       "<matplotlib.image.AxesImage at 0x162efc20820>"
      ]
     },
     "execution_count": 6,
     "metadata": {},
     "output_type": "execute_result"
    },
    {
     "data": {
      "image/png": "[encoded data removed]",
      "text/plain": [
       "<Figure size 640x480 with 1 Axes>"
      ]
     },
     "metadata": {},
     "output_type": "display_data"
    }
   ],
   "source": [
    "plt.imshow(x_train[8])"
   ]
  },
  {
   "cell_type": "code",
   "execution_count": 7,
   "metadata": {
    "colab": {
     "base_uri": "https://localhost:8080/"
    },
    "id": "iyYV5OPmQLPs",
    "outputId": "5428ae2e-405d-46ca-f431-89501481c283"
   },
   "outputs": [
    {
     "name": "stdout",
     "output_type": "stream",
     "text": [
      "1\n"
     ]
    }
   ],
   "source": [
    "print(y_train[8])"
   ]
  },
  {
   "cell_type": "code",
   "execution_count": 8,
   "metadata": {
    "colab": {
     "base_uri": "https://localhost:8080/"
    },
    "id": "R2n_yiqAQRMF",
    "outputId": "d6f95ff1-b014-4273-906a-0b46c71c8f89"
   },
   "outputs": [
    {
     "data": {
      "text/plain": [
       "{0, 1, 2, 3, 4, 5, 6, 7, 8, 9}"
      ]
     },
     "execution_count": 8,
     "metadata": {},
     "output_type": "execute_result"
    }
   ],
   "source": [
    "set(y_train)"
   ]
  },
  {
   "cell_type": "code",
   "execution_count": 9,
   "metadata": {
    "id": "EDX1aT9ZQVaz"
   },
   "outputs": [],
   "source": [
    "x_train=x_train.astype(float)/255.0\n",
    "x_test=x_test.astype(float)/255.0"
   ]
  },
  {
   "cell_type": "code",
   "execution_count": 10,
   "metadata": {
    "id": "NjSdenw1QX2t"
   },
   "outputs": [],
   "source": [
    "from tensorflow.keras.utils import to_categorical\n",
    "y_train=to_categorical(y_train)\n",
    "y_test=to_categorical(y_test)"
   ]
  },
  {
   "cell_type": "code",
   "execution_count": 11,
   "metadata": {
    "colab": {
     "base_uri": "https://localhost:8080/"
    },
    "id": "UMMXePzvQa12",
    "outputId": "55c74a07-bc16-4850-8be9-ab3ec3f23cb1"
   },
   "outputs": [
    {
     "data": {
      "text/plain": [
       "array([0., 0., 0., 0., 0., 1., 0., 0., 0., 0.], dtype=float32)"
      ]
     },
     "execution_count": 11,
     "metadata": {},
     "output_type": "execute_result"
    }
   ],
   "source": [
    "y_train[0]"
   ]
  },
  {
   "cell_type": "code",
   "execution_count": 12,
   "metadata": {
    "id": "4iBfP3mLQdnc"
   },
   "outputs": [],
   "source": [
    "from tensorflow.keras.models import Sequential\n",
    "from tensorflow.keras.layers import InputLayer,Conv2D,MaxPooling2D,Flatten ,Dense"
   ]
  },
  {
   "cell_type": "code",
   "execution_count": 13,
   "metadata": {
    "id": "-D_GE_GBQg6O"
   },
   "outputs": [],
   "source": [
    "model = Sequential()\n",
    "model.add(InputLayer(input_shape=(28,28,1)))\n",
    "model.add(Conv2D(filters=10,kernel_size=3,strides=(1,1),padding='valid',activation='relu'))\n",
    "model.add(MaxPooling2D(pool_size=(2,2)))\n",
    "model.add(Conv2D(filters=10,kernel_size=3,strides=(1,1),padding='valid',activation='relu'))\n",
    "model.add(MaxPooling2D(pool_size=(2,2)))\n",
    "model.add(Conv2D(filters=10,kernel_size=3,strides=(1,1),padding='valid',activation='softmax'))\n",
    "model.add(MaxPooling2D(pool_size=(2,2)))\n",
    "model.add(Flatten())\n",
    "model.add(Dense(64,activation='relu'))\n",
    "model.add(Dense(32,activation='relu'))\n",
    "model.add(Dense(10,activation='sigmoid'))"
   ]
  },
  {
   "cell_type": "code",
   "execution_count": 14,
   "metadata": {
    "colab": {
     "base_uri": "https://localhost:8080/"
    },
    "id": "m6pgwkn_Qjvs",
    "outputId": "42591c38-4b11-45ed-e60b-d2456934c53b"
   },
   "outputs": [
    {
     "name": "stdout",
     "output_type": "stream",
     "text": [
      "Model: \"sequential\"\n",
      "_________________________________________________________________\n",
      " Layer (type)                Output Shape              Param #   \n",
      "=================================================================\n",
      " conv2d (Conv2D)             (None, 26, 26, 10)        100       \n",
      "                                                                 \n",
      " max_pooling2d (MaxPooling2D  (None, 13, 13, 10)       0         \n",
      " )                                                               \n",
      "                                                                 \n",
      " conv2d_1 (Conv2D)           (None, 11, 11, 10)        910       \n",
      "                                                                 \n",
      " max_pooling2d_1 (MaxPooling  (None, 5, 5, 10)         0         \n",
      " 2D)                                                             \n",
      "                                                                 \n",
      " conv2d_2 (Conv2D)           (None, 3, 3, 10)          910       \n",
      "                                                                 \n",
      " max_pooling2d_2 (MaxPooling  (None, 1, 1, 10)         0         \n",
      " 2D)                                                             \n",
      "                                                                 \n",
      " flatten (Flatten)           (None, 10)                0         \n",
      "                                                                 \n",
      " dense (Dense)               (None, 64)                704       \n",
      "                                                                 \n",
      " dense_1 (Dense)             (None, 32)                2080      \n",
      "                                                                 \n",
      " dense_2 (Dense)             (None, 10)                330       \n",
      "                                                                 \n",
      "=================================================================\n",
      "Total params: 5,034\n",
      "Trainable params: 5,034\n",
      "Non-trainable params: 0\n",
      "_________________________________________________________________\n"
     ]
    }
   ],
   "source": [
    "model.summary()"
   ]
  },
  {
   "cell_type": "code",
   "execution_count": 15,
   "metadata": {
    "id": "YqBhAocGQmZQ"
   },
   "outputs": [],
   "source": [
    "import tensorflow\n",
    "model.compile(optimizer='adam',loss=tensorflow.keras.losses.categorical_crossentropy,metrics=['acc'])"
   ]
  },
  {
   "cell_type": "code",
   "execution_count": 16,
   "metadata": {
    "colab": {
     "base_uri": "https://localhost:8080/"
    },
    "id": "qN8v00qXQpgY",
    "outputId": "82644081-c5a8-4ba4-fa69-118442bc880a"
   },
   "outputs": [
    {
     "name": "stdout",
     "output_type": "stream",
     "text": [
      "(60000, 28, 28, 1)\n",
      "(10000, 28, 28, 1)\n"
     ]
    }
   ],
   "source": [
    "x_train=x_train.reshape((60000,28,28,1))\n",
    "x_test=x_test.reshape((10000,28,28,1))\n",
    "print(x_train.shape)\n",
    "print(x_test.shape)"
   ]
  },
  {
   "cell_type": "code",
   "execution_count": 17,
   "metadata": {
    "colab": {
     "base_uri": "https://localhost:8080/"
    },
    "id": "P5tJ_0t7Qr_B",
    "outputId": "c30b6402-4701-4ca5-e88e-4dbc4b60a3f6"
   },
   "outputs": [
    {
     "name": "stdout",
     "output_type": "stream",
     "text": [
      "Epoch 1/30\n",
      "118/118 [==============================] - 47s 375ms/step - loss: 1.9997 - acc: 0.3126 - val_loss: 1.3222 - val_acc: 0.6451\n",
      "Epoch 2/30\n",
      "118/118 [==============================] - 76s 646ms/step - loss: 0.8250 - acc: 0.7609 - val_loss: 0.5259 - val_acc: 0.8393\n",
      "Epoch 3/30\n",
      "118/118 [==============================] - 78s 664ms/step - loss: 0.4569 - acc: 0.8604 - val_loss: 0.3708 - val_acc: 0.8876\n",
      "Epoch 4/30\n",
      "118/118 [==============================] - 117s 994ms/step - loss: 0.3576 - acc: 0.8905 - val_loss: 0.3030 - val_acc: 0.9082\n",
      "Epoch 5/30\n",
      "118/118 [==============================] - 79s 675ms/step - loss: 0.3010 - acc: 0.9074 - val_loss: 0.2517 - val_acc: 0.9218\n",
      "Epoch 6/30\n",
      "118/118 [==============================] - 58s 494ms/step - loss: 0.2655 - acc: 0.9180 - val_loss: 0.2277 - val_acc: 0.9288\n",
      "Epoch 7/30\n",
      "118/118 [==============================] - 53s 451ms/step - loss: 0.2376 - acc: 0.9273 - val_loss: 0.2081 - val_acc: 0.9353\n",
      "Epoch 8/30\n",
      "118/118 [==============================] - 35s 293ms/step - loss: 0.2198 - acc: 0.9317 - val_loss: 0.1916 - val_acc: 0.9402\n",
      "Epoch 9/30\n",
      "118/118 [==============================] - 34s 292ms/step - loss: 0.2036 - acc: 0.9373 - val_loss: 0.1893 - val_acc: 0.9421\n",
      "Epoch 10/30\n",
      "118/118 [==============================] - 37s 314ms/step - loss: 0.1917 - acc: 0.9406 - val_loss: 0.1765 - val_acc: 0.9460\n",
      "Epoch 11/30\n",
      "118/118 [==============================] - 36s 304ms/step - loss: 0.1829 - acc: 0.9438 - val_loss: 0.1686 - val_acc: 0.9491\n",
      "Epoch 12/30\n",
      "118/118 [==============================] - 52s 443ms/step - loss: 0.1756 - acc: 0.9462 - val_loss: 0.1602 - val_acc: 0.9521\n",
      "Epoch 13/30\n",
      "118/118 [==============================] - 45s 384ms/step - loss: 0.1683 - acc: 0.9483 - val_loss: 0.1559 - val_acc: 0.9533\n",
      "Epoch 14/30\n",
      "118/118 [==============================] - 43s 363ms/step - loss: 0.1609 - acc: 0.9509 - val_loss: 0.1557 - val_acc: 0.9521\n",
      "Epoch 15/30\n",
      "118/118 [==============================] - 42s 361ms/step - loss: 0.1553 - acc: 0.9526 - val_loss: 0.1450 - val_acc: 0.9571\n",
      "Epoch 16/30\n",
      "118/118 [==============================] - 36s 301ms/step - loss: 0.1505 - acc: 0.9538 - val_loss: 0.1463 - val_acc: 0.9549\n",
      "Epoch 17/30\n",
      "118/118 [==============================] - 34s 291ms/step - loss: 0.1457 - acc: 0.9561 - val_loss: 0.1436 - val_acc: 0.9556\n",
      "Epoch 18/30\n",
      "118/118 [==============================] - 37s 313ms/step - loss: 0.1417 - acc: 0.9570 - val_loss: 0.1443 - val_acc: 0.9561\n",
      "Epoch 19/30\n",
      "118/118 [==============================] - 34s 291ms/step - loss: 0.1395 - acc: 0.9578 - val_loss: 0.1378 - val_acc: 0.9569\n",
      "Epoch 20/30\n",
      "118/118 [==============================] - 48s 409ms/step - loss: 0.1356 - acc: 0.9587 - val_loss: 0.1350 - val_acc: 0.9582\n",
      "Epoch 21/30\n",
      "118/118 [==============================] - 39s 334ms/step - loss: 0.1315 - acc: 0.9606 - val_loss: 0.1344 - val_acc: 0.9575\n",
      "Epoch 22/30\n",
      "118/118 [==============================] - 49s 415ms/step - loss: 0.1299 - acc: 0.9608 - val_loss: 0.1340 - val_acc: 0.9575\n",
      "Epoch 23/30\n",
      "118/118 [==============================] - 40s 338ms/step - loss: 0.1257 - acc: 0.9620 - val_loss: 0.1314 - val_acc: 0.9601\n",
      "Epoch 24/30\n",
      "118/118 [==============================] - 45s 378ms/step - loss: 0.1234 - acc: 0.9626 - val_loss: 0.1338 - val_acc: 0.9582\n",
      "Epoch 25/30\n",
      "118/118 [==============================] - 50s 426ms/step - loss: 0.1201 - acc: 0.9630 - val_loss: 0.1444 - val_acc: 0.9569\n",
      "Epoch 26/30\n",
      "118/118 [==============================] - 47s 403ms/step - loss: 0.1181 - acc: 0.9635 - val_loss: 0.1252 - val_acc: 0.9622\n",
      "Epoch 27/30\n",
      "118/118 [==============================] - 41s 348ms/step - loss: 0.1167 - acc: 0.9650 - val_loss: 0.1266 - val_acc: 0.9618\n",
      "Epoch 28/30\n",
      "118/118 [==============================] - 39s 328ms/step - loss: 0.1126 - acc: 0.9659 - val_loss: 0.1204 - val_acc: 0.9624\n",
      "Epoch 29/30\n",
      "118/118 [==============================] - 43s 367ms/step - loss: 0.1126 - acc: 0.9664 - val_loss: 0.1181 - val_acc: 0.9640\n",
      "Epoch 30/30\n",
      "118/118 [==============================] - 36s 304ms/step - loss: 0.1092 - acc: 0.9663 - val_loss: 0.1162 - val_acc: 0.9646\n"
     ]
    }
   ],
   "source": [
    "history=model.fit(x_train,y_train,epochs=30,batch_size=512,validation_data=(x_test,y_test))"
   ]
  },
  {
   "cell_type": "code",
   "execution_count": 22,
   "metadata": {},
   "outputs": [
    {
     "name": "stdout",
     "output_type": "stream",
     "text": [
      "313/313 [==============================] - 6s 19ms/step\n"
     ]
    },
    {
     "data": {
      "text/plain": [
       "array([[2.1887781e-01, 8.5547239e-01, 9.5594430e-01, ..., 9.9996918e-01,\n",
       "        5.1982724e-03, 3.6482260e-01],\n",
       "       [8.3643153e-02, 2.1507491e-01, 9.9719661e-01, ..., 2.1309808e-03,\n",
       "        1.7153260e-01, 4.5670290e-06],\n",
       "       [1.0431518e-01, 9.9726039e-01, 9.3749113e-02, ..., 6.9304533e-02,\n",
       "        1.4095512e-02, 3.0438618e-03],\n",
       "       ...,\n",
       "       [4.7418303e-04, 9.9783167e-02, 2.4249468e-02, ..., 3.3752121e-02,\n",
       "        1.3335867e-02, 2.0860358e-01],\n",
       "       [6.8868798e-01, 1.8661071e-03, 2.9460909e-02, ..., 1.7937258e-02,\n",
       "        8.2393032e-01, 6.8115187e-01],\n",
       "       [2.0092310e-01, 8.7380670e-02, 9.7365659e-01, ..., 8.1146299e-04,\n",
       "        3.6978456e-01, 2.3522375e-06]], dtype=float32)"
      ]
     },
     "execution_count": 22,
     "metadata": {},
     "output_type": "execute_result"
    }
   ],
   "source": [
    "y_predict = model.predict(x_test)\n",
    "y_predict"
   ]
  },
  {
   "cell_type": "code",
   "execution_count": 23,
   "metadata": {},
   "outputs": [
    {
     "data": {
      "text/plain": [
       "array([2.1887781e-01, 8.5547239e-01, 9.5594430e-01, 7.9136837e-01,\n",
       "       5.9515964e-03, 5.3741459e-02, 2.9202141e-08, 9.9996918e-01,\n",
       "       5.1982724e-03, 3.6482260e-01], dtype=float32)"
      ]
     },
     "execution_count": 23,
     "metadata": {},
     "output_type": "execute_result"
    }
   ],
   "source": [
    "y_predict[0]"
   ]
  },
  {
   "cell_type": "code",
   "execution_count": 25,
   "metadata": {},
   "outputs": [],
   "source": [
    "import numpy as np"
   ]
  },
  {
   "cell_type": "code",
   "execution_count": 27,
   "metadata": {},
   "outputs": [
    {
     "data": {
      "text/plain": [
       "7"
      ]
     },
     "execution_count": 27,
     "metadata": {},
     "output_type": "execute_result"
    }
   ],
   "source": [
    "np.argmax(y_predict[0])"
   ]
  },
  {
   "cell_type": "code",
   "execution_count": 28,
   "metadata": {},
   "outputs": [
    {
     "data": {
      "text/plain": [
       "array([0., 0., 0., 0., 0., 0., 0., 1., 0., 0.], dtype=float32)"
      ]
     },
     "execution_count": 28,
     "metadata": {},
     "output_type": "execute_result"
    }
   ],
   "source": [
    "y_test[0]"
   ]
  },
  {
   "cell_type": "code",
   "execution_count": 18,
   "metadata": {
    "id": "uTgN0emCQvAL"
   },
   "outputs": [
    {
     "data": {
      "text/plain": [
       "dict_keys(['loss', 'acc', 'val_loss', 'val_acc'])"
      ]
     },
     "execution_count": 18,
     "metadata": {},
     "output_type": "execute_result"
    }
   ],
   "source": [
    "history.history.keys()"
   ]
  },
  {
   "cell_type": "code",
   "execution_count": 19,
   "metadata": {
    "id": "ihaCJfVKS5Y1"
   },
   "outputs": [
    {
     "data": {
      "text/plain": [
       "dict_keys(['loss', 'acc', 'val_loss', 'val_acc'])"
      ]
     },
     "execution_count": 19,
     "metadata": {},
     "output_type": "execute_result"
    }
   ],
   "source": [
    "history.history.keys()"
   ]
  },
  {
   "cell_type": "code",
   "execution_count": 20,
   "metadata": {
    "id": "_bjC2-3XS9Pn"
   },
   "outputs": [
    {
     "data": {
      "image/png": "[encoded data removed]",
      "text/plain": [
       "<Figure size 640x480 with 1 Axes>"
      ]
     },
     "metadata": {},
     "output_type": "display_data"
    }
   ],
   "source": [
    "plt.plot(history.history['loss'])\n",
    "plt.plot(history.history['val_loss'])\n",
    "plt.title('model loss')\n",
    "plt.ylabel('loss')\n",
    "plt.xlabel('epoch')\n",
    "plt.legend(['train'],loc='upper left')\n",
    "plt.legend(['validation'],loc='upper left')\n",
    "plt.show()"
   ]
  },
  {
   "cell_type": "code",
   "execution_count": 21,
   "metadata": {
    "id": "FheWZdhMTCyD"
   },
   "outputs": [
    {
     "data": {
      "image/png": "[encoded data removed]",
      "text/plain": [
       "<Figure size 640x480 with 1 Axes>"
      ]
     },
     "metadata": {},
     "output_type": "display_data"
    }
   ],
   "source": [
    "plt.plot(history.history['acc'])\n",
    "plt.plot(history.history['val_acc'])\n",
    "plt.title('model accuracy')\n",
    "plt.ylabel('accuracy')\n",
    "plt.xlabel('epoch')\n",
    "plt.legend(['train'],loc='upper left')\n",
    "plt.show()"
   ]
  },
  {
   "cell_type": "code",
   "execution_count": null,
   "metadata": {
    "id": "MS0RH7sATGCT"
   },
   "outputs": [],
   "source": []
  }
 ],
 "metadata": {
  "colab": {
   "collapsed_sections": [],
   "name": "Copy of Copy of AI-DL-Exp-6.ipynb",
   "provenance": []
  },
  "kernelspec": {
   "display_name": "Python 3 (ipykernel)",
   "language": "python",
   "name": "python3"
  },
  "language_info": {
   "codemirror_mode": {
    "name": "ipython",
    "version": 3
   },
   "file_extension": ".py",
   "mimetype": "text/x-python",
   "name": "python",
   "nbconvert_exporter": "python",
   "pygments_lexer": "ipython3",
   "version": "3.8.13"
  }
 },
 "nbformat": 4,
 "nbformat_minor": 1
}
