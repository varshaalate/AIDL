{
 "cells": [
  {
   "cell_type": "code",
   "execution_count": 3,
   "metadata": {
    "id": "0ave1fGavsCH"
   },
   "outputs": [
    {
     "ename": "ModuleNotFoundError",
     "evalue": "No module named 'tensorflow'",
     "output_type": "error",
     "traceback": [
      "\u001b[1;31m---------------------------------------------------------------------------\u001b[0m",
      "\u001b[1;31mModuleNotFoundError\u001b[0m                       Traceback (most recent call last)",
      "\u001b[1;32m<ipython-input-3-5630a48bd83e>\u001b[0m in \u001b[0;36m<module>\u001b[1;34m\u001b[0m\n\u001b[1;32m----> 1\u001b[1;33m \u001b[1;32mimport\u001b[0m \u001b[0mtensorflow\u001b[0m \u001b[1;32mas\u001b[0m \u001b[0mtf\u001b[0m\u001b[1;33m\u001b[0m\u001b[1;33m\u001b[0m\u001b[0m\n\u001b[0m\u001b[0;32m      2\u001b[0m \u001b[1;32mfrom\u001b[0m \u001b[0mtensorflow\u001b[0m\u001b[1;33m.\u001b[0m\u001b[0mkeras\u001b[0m\u001b[1;33m.\u001b[0m\u001b[0mdatasets\u001b[0m \u001b[1;32mimport\u001b[0m \u001b[0mboston_housing\u001b[0m\u001b[1;33m\u001b[0m\u001b[1;33m\u001b[0m\u001b[0m\n\u001b[0;32m      3\u001b[0m \u001b[1;32mfrom\u001b[0m \u001b[0msklearn\u001b[0m \u001b[1;32mimport\u001b[0m \u001b[0mpreprocessing\u001b[0m\u001b[1;33m\u001b[0m\u001b[1;33m\u001b[0m\u001b[0m\n",
      "\u001b[1;31mModuleNotFoundError\u001b[0m: No module named 'tensorflow'"
     ]
    }
   ],
   "source": [
    "import tensorflow as tf\n",
    "from tensorflow.keras.datasets import boston_housing\n",
    "from sklearn import preprocessing"
   ]
  },
  {
   "cell_type": "code",
   "execution_count": null,
   "metadata": {
    "colab": {
     "base_uri": "https://localhost:8080/"
    },
    "id": "Pp-0KXfEwchA",
    "outputId": "9525a7fd-edcf-4c9a-9921-d49dc6960bf2"
   },
   "outputs": [
    {
     "name": "stdout",
     "output_type": "stream",
     "text": [
      "Downloading data from https://storage.googleapis.com/tensorflow/tf-keras-datasets/boston_housing.npz\n",
      "57344/57026 [==============================] - 0s 0us/step\n",
      "65536/57026 [==================================] - 0s 0us/step\n"
     ]
    }
   ],
   "source": [
    "(train_x,train_y),(test_x,test_y) = boston_housing.load_data()"
   ]
  },
  {
   "cell_type": "code",
   "execution_count": 4,
   "metadata": {
    "colab": {
     "base_uri": "https://localhost:8080/"
    },
    "id": "OEYEXoa_wGjG",
    "outputId": "f10ec3dc-c2b6-4a35-ab97-e08cf586df3c"
   },
   "outputs": [
    {
     "ename": "NameError",
     "evalue": "name 'train_x' is not defined",
     "output_type": "error",
     "traceback": [
      "\u001b[1;31m---------------------------------------------------------------------------\u001b[0m",
      "\u001b[1;31mNameError\u001b[0m                                 Traceback (most recent call last)",
      "\u001b[1;32m<ipython-input-4-c3c2b00a7394>\u001b[0m in \u001b[0;36m<module>\u001b[1;34m\u001b[0m\n\u001b[1;32m----> 1\u001b[1;33m \u001b[0mprint\u001b[0m\u001b[1;33m(\u001b[0m\u001b[1;34m\"Train Shape: \"\u001b[0m\u001b[1;33m,\u001b[0m\u001b[0mtrain_x\u001b[0m\u001b[1;33m.\u001b[0m\u001b[0mshape\u001b[0m\u001b[1;33m)\u001b[0m\u001b[1;33m\u001b[0m\u001b[1;33m\u001b[0m\u001b[0m\n\u001b[0m\u001b[0;32m      2\u001b[0m \u001b[0mprint\u001b[0m\u001b[1;33m(\u001b[0m\u001b[1;34m\"Test Shape: \"\u001b[0m\u001b[1;33m,\u001b[0m\u001b[0mtest_x\u001b[0m\u001b[1;33m.\u001b[0m\u001b[0mshape\u001b[0m\u001b[1;33m)\u001b[0m\u001b[1;33m\u001b[0m\u001b[1;33m\u001b[0m\u001b[0m\n\u001b[0;32m      3\u001b[0m \u001b[0mprint\u001b[0m\u001b[1;33m(\u001b[0m\u001b[1;34m\"Actual Train Output: \"\u001b[0m\u001b[1;33m,\u001b[0m\u001b[0mtrain_y\u001b[0m\u001b[1;33m.\u001b[0m\u001b[0mshape\u001b[0m\u001b[1;33m)\u001b[0m\u001b[1;33m\u001b[0m\u001b[1;33m\u001b[0m\u001b[0m\n\u001b[0;32m      4\u001b[0m \u001b[0mprint\u001b[0m\u001b[1;33m(\u001b[0m\u001b[1;34m\"Actual Test Output: \"\u001b[0m\u001b[1;33m,\u001b[0m\u001b[0mtest_y\u001b[0m\u001b[1;33m.\u001b[0m\u001b[0mshape\u001b[0m\u001b[1;33m)\u001b[0m\u001b[1;33m\u001b[0m\u001b[1;33m\u001b[0m\u001b[0m\n",
      "\u001b[1;31mNameError\u001b[0m: name 'train_x' is not defined"
     ]
    }
   ],
   "source": [
    "print(\"Train Shape: \",train_x.shape)\n",
    "print(\"Test Shape: \",test_x.shape)\n",
    "print(\"Actual Train Output: \",train_y.shape)\n",
    "print(\"Actual Test Output: \",test_y.shape)"
   ]
  },
  {
   "cell_type": "code",
   "execution_count": null,
   "metadata": {
    "colab": {
     "base_uri": "https://localhost:8080/"
    },
    "id": "8MrKHwSTwYC_",
    "outputId": "26c62863-2566-4f09-c758-48f26da8cf0f"
   },
   "outputs": [
    {
     "name": "stdout",
     "output_type": "stream",
     "text": [
      "[  1.23247   0.        8.14      0.        0.538     6.142    91.7\n",
      "   3.9769    4.      307.       21.      396.9      18.72   ]\n",
      "15.2\n"
     ]
    }
   ],
   "source": [
    "print(train_x[0])\n",
    "print(train_y[0])"
   ]
  },
  {
   "cell_type": "code",
   "execution_count": null,
   "metadata": {
    "id": "71dHso_Bwwne"
   },
   "outputs": [],
   "source": [
    "train_x = preprocessing.normalize(train_x)\n",
    "test_x = preprocessing.normalize(test_x)"
   ]
  },
  {
   "cell_type": "code",
   "execution_count": null,
   "metadata": {
    "colab": {
     "base_uri": "https://localhost:8080/"
    },
    "id": "3U1Gcyk4xNRr",
    "outputId": "843e27a4-e314-4f4a-a618-db95772397be"
   },
   "outputs": [
    {
     "name": "stdout",
     "output_type": "stream",
     "text": [
      "[0.0024119  0.         0.01592969 0.         0.00105285 0.01201967\n",
      " 0.17945359 0.00778265 0.00782786 0.6007879  0.04109624 0.77671895\n",
      " 0.03663436]\n",
      "15.2\n"
     ]
    }
   ],
   "source": [
    "print(train_x[0])\n",
    "print(train_y[0])"
   ]
  },
  {
   "cell_type": "code",
   "execution_count": null,
   "metadata": {
    "id": "EQ13uo-yxT62"
   },
   "outputs": [],
   "source": [
    "from tensorflow.keras.models import Sequential\n",
    "from tensorflow.keras.layers import *\n",
    "\n",
    "def HousePricePredictionModel():\n",
    "  model = Sequential()\n",
    "  model.add(Dense(128,activation='relu',input_shape=(train_x[0].shape)))\n",
    "  model.add(Dense(64,activation='relu'))\n",
    "  model.add(Dense(32,activation='relu'))\n",
    "  model.add(Dense(1))\n",
    "  model.compile(optimizer='rmsprop', loss='mse', metrics=['mae'])\n",
    "  return model"
   ]
  },
  {
   "cell_type": "code",
   "execution_count": null,
   "metadata": {
    "id": "upJAK1auyQjc"
   },
   "outputs": [],
   "source": [
    "import numpy as np\n",
    "k = 4\n",
    "num_val_sample = len(train_x)\n",
    "num_epochs = 100\n",
    "all_scores = []"
   ]
  },
  {
   "cell_type": "code",
   "execution_count": null,
   "metadata": {
    "colab": {
     "base_uri": "https://localhost:8080/"
    },
    "id": "Ck8jtgWUye1j",
    "outputId": "dc294620-46a3-4ecf-e8ac-4709ea1ed097"
   },
   "outputs": [
    {
     "name": "stdout",
     "output_type": "stream",
     "text": [
      "Epoch 1/100\n",
      "404/404 [==============================] - 2s 2ms/step - loss: 156.6589 - mae: 8.5969 - val_loss: 71.8077 - val_mae: 5.9538\n",
      "Epoch 2/100\n",
      "404/404 [==============================] - 1s 2ms/step - loss: 67.7741 - mae: 5.7277 - val_loss: 61.4534 - val_mae: 5.6674\n",
      "Epoch 3/100\n",
      "404/404 [==============================] - 1s 2ms/step - loss: 64.2968 - mae: 5.5503 - val_loss: 57.1256 - val_mae: 5.5614\n",
      "Epoch 4/100\n",
      "404/404 [==============================] - 1s 2ms/step - loss: 59.6524 - mae: 5.3971 - val_loss: 63.3257 - val_mae: 5.6504\n",
      "Epoch 5/100\n",
      "404/404 [==============================] - 1s 2ms/step - loss: 60.6319 - mae: 5.2493 - val_loss: 53.8783 - val_mae: 5.5021\n",
      "Epoch 6/100\n",
      "404/404 [==============================] - 1s 2ms/step - loss: 58.2828 - mae: 5.2325 - val_loss: 56.1003 - val_mae: 5.3698\n",
      "Epoch 7/100\n",
      "404/404 [==============================] - 1s 2ms/step - loss: 56.1580 - mae: 5.1227 - val_loss: 56.3629 - val_mae: 5.7834\n",
      "Epoch 8/100\n",
      "404/404 [==============================] - 1s 2ms/step - loss: 53.9035 - mae: 4.9702 - val_loss: 51.2922 - val_mae: 5.2493\n",
      "Epoch 9/100\n",
      "404/404 [==============================] - 1s 2ms/step - loss: 54.0326 - mae: 4.9578 - val_loss: 59.3104 - val_mae: 5.4110\n",
      "Epoch 10/100\n",
      "404/404 [==============================] - 1s 2ms/step - loss: 50.8895 - mae: 4.8060 - val_loss: 52.6568 - val_mae: 5.1037\n",
      "Epoch 11/100\n",
      "404/404 [==============================] - 1s 2ms/step - loss: 49.8790 - mae: 4.7240 - val_loss: 48.5220 - val_mae: 4.9223\n",
      "Epoch 12/100\n",
      "404/404 [==============================] - 1s 1ms/step - loss: 49.6315 - mae: 4.6840 - val_loss: 51.9368 - val_mae: 5.0378\n",
      "Epoch 13/100\n",
      "404/404 [==============================] - 1s 2ms/step - loss: 47.7896 - mae: 4.6373 - val_loss: 44.5319 - val_mae: 4.7639\n",
      "Epoch 14/100\n",
      "404/404 [==============================] - 1s 2ms/step - loss: 45.6460 - mae: 4.5298 - val_loss: 48.4876 - val_mae: 4.8285\n",
      "Epoch 15/100\n",
      "404/404 [==============================] - 1s 1ms/step - loss: 44.2127 - mae: 4.5110 - val_loss: 42.7715 - val_mae: 4.5377\n",
      "Epoch 16/100\n",
      "404/404 [==============================] - 1s 2ms/step - loss: 42.6478 - mae: 4.4529 - val_loss: 39.9705 - val_mae: 4.3786\n",
      "Epoch 17/100\n",
      "404/404 [==============================] - 1s 2ms/step - loss: 40.3333 - mae: 4.3532 - val_loss: 43.2520 - val_mae: 5.0810\n",
      "Epoch 18/100\n",
      "404/404 [==============================] - 1s 2ms/step - loss: 39.6485 - mae: 4.3363 - val_loss: 36.6647 - val_mae: 4.2214\n",
      "Epoch 19/100\n",
      "404/404 [==============================] - 1s 2ms/step - loss: 38.3131 - mae: 4.2470 - val_loss: 42.3435 - val_mae: 4.4475\n",
      "Epoch 20/100\n",
      "404/404 [==============================] - 1s 2ms/step - loss: 37.4229 - mae: 4.2972 - val_loss: 35.7341 - val_mae: 4.2611\n",
      "Epoch 21/100\n",
      "404/404 [==============================] - 1s 2ms/step - loss: 36.9025 - mae: 4.2318 - val_loss: 32.9194 - val_mae: 3.9842\n",
      "Epoch 22/100\n",
      "404/404 [==============================] - 1s 2ms/step - loss: 35.0565 - mae: 4.1112 - val_loss: 31.9364 - val_mae: 3.9577\n",
      "Epoch 23/100\n",
      "404/404 [==============================] - 1s 2ms/step - loss: 34.4148 - mae: 4.0948 - val_loss: 34.3601 - val_mae: 4.5092\n",
      "Epoch 24/100\n",
      "404/404 [==============================] - 1s 2ms/step - loss: 33.6555 - mae: 4.0624 - val_loss: 35.2052 - val_mae: 4.0748\n",
      "Epoch 25/100\n",
      "404/404 [==============================] - 1s 2ms/step - loss: 33.8138 - mae: 4.0670 - val_loss: 34.7255 - val_mae: 4.1120\n",
      "Epoch 26/100\n",
      "404/404 [==============================] - 1s 2ms/step - loss: 32.7426 - mae: 4.0195 - val_loss: 34.7955 - val_mae: 4.0356\n",
      "Epoch 27/100\n",
      "404/404 [==============================] - 1s 2ms/step - loss: 31.0545 - mae: 3.9788 - val_loss: 29.6395 - val_mae: 3.8177\n",
      "Epoch 28/100\n",
      "404/404 [==============================] - 1s 2ms/step - loss: 31.4352 - mae: 3.8871 - val_loss: 32.6702 - val_mae: 3.9134\n",
      "Epoch 29/100\n",
      "404/404 [==============================] - 1s 2ms/step - loss: 30.5165 - mae: 3.9262 - val_loss: 27.9262 - val_mae: 3.7899\n",
      "Epoch 30/100\n",
      "404/404 [==============================] - 1s 2ms/step - loss: 29.1818 - mae: 3.8145 - val_loss: 29.7665 - val_mae: 3.7509\n",
      "Epoch 31/100\n",
      "404/404 [==============================] - 1s 2ms/step - loss: 28.0940 - mae: 3.7747 - val_loss: 28.9633 - val_mae: 3.7382\n",
      "Epoch 32/100\n",
      "404/404 [==============================] - 1s 2ms/step - loss: 27.4922 - mae: 3.6567 - val_loss: 28.4415 - val_mae: 3.7236\n",
      "Epoch 33/100\n",
      "404/404 [==============================] - 1s 2ms/step - loss: 26.5739 - mae: 3.6205 - val_loss: 39.1991 - val_mae: 4.5072\n",
      "Epoch 34/100\n",
      "404/404 [==============================] - 1s 2ms/step - loss: 26.9382 - mae: 3.6180 - val_loss: 45.6901 - val_mae: 4.7632\n",
      "Epoch 35/100\n",
      "404/404 [==============================] - 1s 2ms/step - loss: 27.1949 - mae: 3.7276 - val_loss: 26.7296 - val_mae: 3.8024\n",
      "Epoch 36/100\n",
      "404/404 [==============================] - 1s 2ms/step - loss: 25.0147 - mae: 3.6064 - val_loss: 26.3191 - val_mae: 3.9166\n",
      "Epoch 37/100\n",
      "404/404 [==============================] - 1s 2ms/step - loss: 23.8094 - mae: 3.4946 - val_loss: 32.6222 - val_mae: 3.9502\n",
      "Epoch 38/100\n",
      "404/404 [==============================] - 1s 2ms/step - loss: 24.1364 - mae: 3.4898 - val_loss: 29.6764 - val_mae: 3.8058\n",
      "Epoch 39/100\n",
      "404/404 [==============================] - 1s 2ms/step - loss: 22.9956 - mae: 3.4892 - val_loss: 41.5027 - val_mae: 4.7114\n",
      "Epoch 40/100\n",
      "404/404 [==============================] - 1s 2ms/step - loss: 23.9946 - mae: 3.4236 - val_loss: 31.6751 - val_mae: 3.9142\n",
      "Epoch 41/100\n",
      "404/404 [==============================] - 1s 2ms/step - loss: 23.7043 - mae: 3.3871 - val_loss: 28.6316 - val_mae: 3.7673\n",
      "Epoch 42/100\n",
      "404/404 [==============================] - 1s 2ms/step - loss: 22.7099 - mae: 3.3401 - val_loss: 25.3444 - val_mae: 3.6595\n",
      "Epoch 43/100\n",
      "404/404 [==============================] - 1s 2ms/step - loss: 22.1912 - mae: 3.3783 - val_loss: 26.5805 - val_mae: 3.8032\n",
      "Epoch 44/100\n",
      "404/404 [==============================] - 1s 1ms/step - loss: 22.4780 - mae: 3.4223 - val_loss: 27.2263 - val_mae: 3.8572\n",
      "Epoch 45/100\n",
      "404/404 [==============================] - 1s 2ms/step - loss: 21.4571 - mae: 3.2773 - val_loss: 39.6727 - val_mae: 5.1598\n",
      "Epoch 46/100\n",
      "404/404 [==============================] - 1s 2ms/step - loss: 21.3682 - mae: 3.2886 - val_loss: 25.4771 - val_mae: 3.5134\n",
      "Epoch 47/100\n",
      "404/404 [==============================] - 1s 2ms/step - loss: 20.8974 - mae: 3.2303 - val_loss: 25.1803 - val_mae: 3.5228\n",
      "Epoch 48/100\n",
      "404/404 [==============================] - 1s 2ms/step - loss: 19.7498 - mae: 3.2321 - val_loss: 35.3075 - val_mae: 4.1840\n",
      "Epoch 49/100\n",
      "404/404 [==============================] - 1s 2ms/step - loss: 18.8996 - mae: 3.1095 - val_loss: 41.0032 - val_mae: 5.2144\n",
      "Epoch 50/100\n",
      "404/404 [==============================] - 1s 2ms/step - loss: 20.2243 - mae: 3.2264 - val_loss: 26.9240 - val_mae: 3.8353\n",
      "Epoch 51/100\n",
      "404/404 [==============================] - 1s 1ms/step - loss: 19.4468 - mae: 3.1656 - val_loss: 26.3943 - val_mae: 3.6132\n",
      "Epoch 52/100\n",
      "404/404 [==============================] - 1s 2ms/step - loss: 19.4821 - mae: 3.2395 - val_loss: 27.1408 - val_mae: 3.6663\n",
      "Epoch 53/100\n",
      "404/404 [==============================] - 1s 2ms/step - loss: 19.3667 - mae: 3.1543 - val_loss: 28.9697 - val_mae: 3.8054\n",
      "Epoch 54/100\n",
      "404/404 [==============================] - 1s 2ms/step - loss: 19.3517 - mae: 3.0557 - val_loss: 27.3985 - val_mae: 3.6710\n",
      "Epoch 55/100\n",
      "404/404 [==============================] - 1s 2ms/step - loss: 19.6963 - mae: 3.2221 - val_loss: 26.9055 - val_mae: 3.6283\n",
      "Epoch 56/100\n",
      "404/404 [==============================] - 1s 2ms/step - loss: 18.2771 - mae: 3.1132 - val_loss: 33.6744 - val_mae: 4.0581\n",
      "Epoch 57/100\n",
      "404/404 [==============================] - 1s 2ms/step - loss: 18.8934 - mae: 3.1413 - val_loss: 30.4725 - val_mae: 3.8640\n",
      "Epoch 58/100\n",
      "404/404 [==============================] - 1s 2ms/step - loss: 18.8563 - mae: 3.1327 - val_loss: 27.2663 - val_mae: 3.5595\n",
      "Epoch 59/100\n",
      "404/404 [==============================] - 1s 2ms/step - loss: 18.6606 - mae: 3.0354 - val_loss: 29.0793 - val_mae: 3.8168\n",
      "Epoch 60/100\n",
      "404/404 [==============================] - 1s 2ms/step - loss: 18.3770 - mae: 3.0574 - val_loss: 37.8356 - val_mae: 4.4500\n",
      "Epoch 61/100\n",
      "404/404 [==============================] - 1s 2ms/step - loss: 18.2158 - mae: 3.0906 - val_loss: 29.0098 - val_mae: 3.7076\n",
      "Epoch 62/100\n",
      "404/404 [==============================] - 1s 2ms/step - loss: 17.7715 - mae: 3.0392 - val_loss: 31.6509 - val_mae: 3.9349\n",
      "Epoch 63/100\n",
      "404/404 [==============================] - 1s 2ms/step - loss: 16.9499 - mae: 3.0400 - val_loss: 38.3600 - val_mae: 4.3335\n",
      "Epoch 64/100\n",
      "404/404 [==============================] - 1s 1ms/step - loss: 17.7733 - mae: 3.0713 - val_loss: 38.0122 - val_mae: 4.3987\n",
      "Epoch 65/100\n",
      "404/404 [==============================] - 1s 2ms/step - loss: 17.6641 - mae: 3.0028 - val_loss: 29.2155 - val_mae: 3.7037\n",
      "Epoch 66/100\n",
      "404/404 [==============================] - 1s 2ms/step - loss: 16.7709 - mae: 2.9619 - val_loss: 28.1180 - val_mae: 3.5217\n",
      "Epoch 67/100\n",
      "404/404 [==============================] - 1s 2ms/step - loss: 18.0263 - mae: 3.0713 - val_loss: 30.4586 - val_mae: 3.8827\n",
      "Epoch 68/100\n",
      "404/404 [==============================] - 1s 2ms/step - loss: 17.5719 - mae: 3.0610 - val_loss: 32.8306 - val_mae: 3.9628\n",
      "Epoch 69/100\n",
      "404/404 [==============================] - 1s 2ms/step - loss: 16.9923 - mae: 2.8905 - val_loss: 33.9442 - val_mae: 4.0257\n",
      "Epoch 70/100\n",
      "404/404 [==============================] - 1s 2ms/step - loss: 17.8807 - mae: 3.0618 - val_loss: 28.6088 - val_mae: 3.8296\n",
      "Epoch 71/100\n",
      "404/404 [==============================] - 1s 2ms/step - loss: 16.6927 - mae: 2.9360 - val_loss: 28.5869 - val_mae: 3.6512\n",
      "Epoch 72/100\n",
      "404/404 [==============================] - 1s 2ms/step - loss: 18.3191 - mae: 3.0098 - val_loss: 28.1014 - val_mae: 3.5937\n",
      "Epoch 73/100\n",
      "404/404 [==============================] - 1s 2ms/step - loss: 16.9130 - mae: 2.9374 - val_loss: 29.5947 - val_mae: 3.7263\n",
      "Epoch 74/100\n",
      "404/404 [==============================] - 1s 2ms/step - loss: 17.9698 - mae: 3.0124 - val_loss: 29.1410 - val_mae: 3.7051\n",
      "Epoch 75/100\n",
      "404/404 [==============================] - 1s 2ms/step - loss: 17.9017 - mae: 3.0599 - val_loss: 29.2976 - val_mae: 3.6010\n",
      "Epoch 76/100\n",
      "404/404 [==============================] - 1s 2ms/step - loss: 17.5280 - mae: 2.9388 - val_loss: 33.9448 - val_mae: 3.9904\n",
      "Epoch 77/100\n",
      "404/404 [==============================] - 1s 2ms/step - loss: 17.4720 - mae: 2.9799 - val_loss: 30.7431 - val_mae: 3.6945\n",
      "Epoch 78/100\n",
      "404/404 [==============================] - 1s 2ms/step - loss: 16.8270 - mae: 2.8903 - val_loss: 29.8880 - val_mae: 3.6351\n",
      "Epoch 79/100\n",
      "404/404 [==============================] - 1s 2ms/step - loss: 16.1417 - mae: 2.8890 - val_loss: 29.0058 - val_mae: 3.5691\n",
      "Epoch 80/100\n",
      "404/404 [==============================] - 1s 2ms/step - loss: 16.9139 - mae: 2.9509 - val_loss: 31.0661 - val_mae: 3.7272\n",
      "Epoch 81/100\n",
      "404/404 [==============================] - 1s 2ms/step - loss: 17.0697 - mae: 2.9910 - val_loss: 31.4840 - val_mae: 3.7069\n",
      "Epoch 82/100\n",
      "404/404 [==============================] - 1s 2ms/step - loss: 17.2183 - mae: 2.9265 - val_loss: 36.2203 - val_mae: 4.2843\n",
      "Epoch 83/100\n",
      "404/404 [==============================] - 1s 2ms/step - loss: 16.5817 - mae: 2.8857 - val_loss: 30.1141 - val_mae: 3.7506\n",
      "Epoch 84/100\n",
      "404/404 [==============================] - 1s 2ms/step - loss: 17.0817 - mae: 2.8501 - val_loss: 27.5152 - val_mae: 3.5584\n",
      "Epoch 85/100\n",
      "404/404 [==============================] - 1s 2ms/step - loss: 17.3896 - mae: 2.9592 - val_loss: 30.0255 - val_mae: 3.6764\n",
      "Epoch 86/100\n",
      "404/404 [==============================] - 1s 2ms/step - loss: 16.8951 - mae: 2.9758 - val_loss: 30.8439 - val_mae: 3.9054\n",
      "Epoch 87/100\n",
      "404/404 [==============================] - 1s 2ms/step - loss: 17.4514 - mae: 2.8927 - val_loss: 30.9244 - val_mae: 3.7353\n",
      "Epoch 88/100\n",
      "404/404 [==============================] - 1s 2ms/step - loss: 16.2154 - mae: 2.9268 - val_loss: 31.4152 - val_mae: 3.7679\n",
      "Epoch 89/100\n",
      "404/404 [==============================] - 1s 2ms/step - loss: 16.3593 - mae: 2.8533 - val_loss: 34.1903 - val_mae: 4.2025\n",
      "Epoch 90/100\n",
      "404/404 [==============================] - 1s 2ms/step - loss: 15.4950 - mae: 2.8812 - val_loss: 28.8884 - val_mae: 3.5961\n",
      "Epoch 91/100\n",
      "404/404 [==============================] - 1s 2ms/step - loss: 16.6405 - mae: 2.9604 - val_loss: 31.2064 - val_mae: 3.7396\n",
      "Epoch 92/100\n",
      "404/404 [==============================] - 1s 2ms/step - loss: 15.6927 - mae: 2.8199 - val_loss: 31.4774 - val_mae: 3.7256\n",
      "Epoch 93/100\n",
      "404/404 [==============================] - 1s 2ms/step - loss: 16.7210 - mae: 2.9555 - val_loss: 30.8292 - val_mae: 3.7697\n",
      "Epoch 94/100\n",
      "404/404 [==============================] - 1s 2ms/step - loss: 15.8577 - mae: 2.8767 - val_loss: 30.2257 - val_mae: 3.6505\n",
      "Epoch 95/100\n",
      "404/404 [==============================] - 1s 2ms/step - loss: 17.1931 - mae: 2.9986 - val_loss: 30.3380 - val_mae: 3.6763\n",
      "Epoch 96/100\n",
      "404/404 [==============================] - 1s 2ms/step - loss: 15.2354 - mae: 2.8314 - val_loss: 29.6109 - val_mae: 3.6135\n",
      "Epoch 97/100\n",
      "404/404 [==============================] - 1s 2ms/step - loss: 15.9286 - mae: 2.8985 - val_loss: 31.7518 - val_mae: 3.7035\n",
      "Epoch 98/100\n",
      "404/404 [==============================] - 1s 2ms/step - loss: 16.0385 - mae: 2.8652 - val_loss: 33.9443 - val_mae: 3.7729\n",
      "Epoch 99/100\n",
      "404/404 [==============================] - 1s 2ms/step - loss: 15.9513 - mae: 2.9008 - val_loss: 33.4915 - val_mae: 3.8594\n",
      "Epoch 100/100\n",
      "404/404 [==============================] - 1s 2ms/step - loss: 15.0654 - mae: 2.8518 - val_loss: 33.5437 - val_mae: 3.9855\n"
     ]
    }
   ],
   "source": [
    "model = HousePricePredictionModel()\n",
    "history = model.fit(x=train_x, y=train_y, epochs=num_epochs, batch_size=1, verbose=1, validation_data=(test_x,test_y))"
   ]
  },
  {
   "cell_type": "code",
   "execution_count": null,
   "metadata": {
    "colab": {
     "base_uri": "https://localhost:8080/"
    },
    "id": "jCzDwX39y60g",
    "outputId": "d72aba52-ec92-440e-d4a1-8f52756d3948"
   },
   "outputs": [
    {
     "name": "stdout",
     "output_type": "stream",
     "text": [
      "Actual Output: 21.1\n",
      "Predicted Output:  [[22.689362]]\n"
     ]
    }
   ],
   "source": [
    "test_input = [[8.65407330e-05, 0.00000000e+00, 1.13392175e-02, 0.00000000e+00, 1.12518247e-03, 1.31897603e-02, 7.53763011e-02, 1.30768051e-02, 1.09241016e-02, 4.89399752e-01, 4.41333705e-02, 8.67155186e-01, 1.75004108e-02]]\n",
    "print(\"Actual Output: 21.1\")\n",
    "print(\"Predicted Output: \",model.predict(test_input))"
   ]
  }
 ],
 "metadata": {
  "colab": {
   "collapsed_sections": [],
   "name": "Copy of Copy of AI-DL-Exp-5.ipynb",
   "provenance": []
  },
  "kernelspec": {
   "display_name": "Python 3",
   "language": "python",
   "name": "python3"
  },
  "language_info": {
   "codemirror_mode": {
    "name": "ipython",
    "version": 3
   },
   "file_extension": ".py",
   "mimetype": "text/x-python",
   "name": "python",
   "nbconvert_exporter": "python",
   "pygments_lexer": "ipython3",
   "version": "3.8.5"
  }
 },
 "nbformat": 4,
 "nbformat_minor": 1
}
