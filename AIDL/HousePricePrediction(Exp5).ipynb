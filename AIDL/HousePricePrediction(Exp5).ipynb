{
 "cells": [
  {
   "cell_type": "markdown",
   "id": "ed220542",
   "metadata": {},
   "source": [
    "# Import"
   ]
  },
  {
   "cell_type": "code",
   "execution_count": 2,
   "id": "46dd5c99",
   "metadata": {},
   "outputs": [],
   "source": [
    "import tensorflow as tf\n",
    "from tensorflow.keras.datasets import boston_housing\n",
    "from sklearn import preprocessing"
   ]
  },
  {
   "cell_type": "markdown",
   "id": "642e2187",
   "metadata": {},
   "source": [
    "# Load the Dataset"
   ]
  },
  {
   "cell_type": "code",
   "execution_count": 3,
   "id": "cf148742",
   "metadata": {},
   "outputs": [],
   "source": [
    "(x_train,y_train),(x_test,y_test)=boston_housing.load_data()"
   ]
  },
  {
   "cell_type": "markdown",
   "id": "c4eef0d1",
   "metadata": {},
   "source": [
    "# testing shape"
   ]
  },
  {
   "cell_type": "code",
   "execution_count": 4,
   "id": "7fbb1051",
   "metadata": {},
   "outputs": [
    {
     "data": {
      "text/plain": [
       "(404, 13)"
      ]
     },
     "execution_count": 4,
     "metadata": {},
     "output_type": "execute_result"
    }
   ],
   "source": [
    "x_train.shape"
   ]
  },
  {
   "cell_type": "code",
   "execution_count": 5,
   "id": "2272c033",
   "metadata": {},
   "outputs": [
    {
     "data": {
      "text/plain": [
       "(102, 13)"
      ]
     },
     "execution_count": 5,
     "metadata": {},
     "output_type": "execute_result"
    }
   ],
   "source": [
    "x_test.shape"
   ]
  },
  {
   "cell_type": "code",
   "execution_count": 6,
   "id": "2b186030",
   "metadata": {},
   "outputs": [
    {
     "data": {
      "text/plain": [
       "(404,)"
      ]
     },
     "execution_count": 6,
     "metadata": {},
     "output_type": "execute_result"
    }
   ],
   "source": [
    "y_train.shape"
   ]
  },
  {
   "cell_type": "code",
   "execution_count": 7,
   "id": "860fc34d",
   "metadata": {},
   "outputs": [
    {
     "data": {
      "text/plain": [
       "(102,)"
      ]
     },
     "execution_count": 7,
     "metadata": {},
     "output_type": "execute_result"
    }
   ],
   "source": [
    "y_test.shape"
   ]
  },
  {
   "cell_type": "code",
   "execution_count": 8,
   "id": "89cced23",
   "metadata": {},
   "outputs": [
    {
     "data": {
      "text/plain": [
       "array([  1.23247,   0.     ,   8.14   ,   0.     ,   0.538  ,   6.142  ,\n",
       "        91.7    ,   3.9769 ,   4.     , 307.     ,  21.     , 396.9    ,\n",
       "        18.72   ])"
      ]
     },
     "execution_count": 8,
     "metadata": {},
     "output_type": "execute_result"
    }
   ],
   "source": [
    "x_train[0]"
   ]
  },
  {
   "cell_type": "code",
   "execution_count": 9,
   "id": "4e3b3e4f",
   "metadata": {},
   "outputs": [
    {
     "data": {
      "text/plain": [
       "15.2"
      ]
     },
     "execution_count": 9,
     "metadata": {},
     "output_type": "execute_result"
    }
   ],
   "source": [
    " y_train[0]"
   ]
  },
  {
   "cell_type": "markdown",
   "id": "99f8fa9d",
   "metadata": {},
   "source": [
    "# Normalising\n",
    "Normalize samples individually to unit norm.\n",
    "\n"
   ]
  },
  {
   "cell_type": "code",
   "execution_count": 10,
   "id": "3ed7ddf9",
   "metadata": {},
   "outputs": [],
   "source": [
    "x_train=preprocessing.normalize(x_train)\n",
    "x_test=preprocessing.normalize(x_test)"
   ]
  },
  {
   "cell_type": "code",
   "execution_count": 11,
   "id": "191a30fa",
   "metadata": {},
   "outputs": [
    {
     "data": {
      "text/plain": [
       "array([0.0024119 , 0.        , 0.01592969, 0.        , 0.00105285,\n",
       "       0.01201967, 0.17945359, 0.00778265, 0.00782786, 0.6007879 ,\n",
       "       0.04109624, 0.77671895, 0.03663436])"
      ]
     },
     "execution_count": 11,
     "metadata": {},
     "output_type": "execute_result"
    }
   ],
   "source": [
    "x_train[0]"
   ]
  },
  {
   "cell_type": "code",
   "execution_count": 12,
   "id": "477d2b3e",
   "metadata": {},
   "outputs": [
    {
     "data": {
      "text/plain": [
       "15.2"
      ]
     },
     "execution_count": 12,
     "metadata": {},
     "output_type": "execute_result"
    }
   ],
   "source": [
    "y_train[0]"
   ]
  },
  {
   "cell_type": "markdown",
   "id": "e4434af3",
   "metadata": {},
   "source": [
    "# Neural Network"
   ]
  },
  {
   "cell_type": "code",
   "execution_count": 20,
   "id": "a206559d",
   "metadata": {},
   "outputs": [],
   "source": [
    "from tensorflow.keras.models import Sequential\n",
    "from tensorflow.keras.layers import*"
   ]
  },
  {
   "cell_type": "markdown",
   "id": "36f2a912",
   "metadata": {},
   "source": [
    "Function for defining the model"
   ]
  },
  {
   "cell_type": "markdown",
   "id": "b910d854",
   "metadata": {},
   "source": [
    "optimizer='rmsprop' : rmsprop is optimizer algo which identify the loss and take derivative of loss function which will be                       helpful for weight updation.\n"
   ]
  },
  {
   "cell_type": "code",
   "execution_count": 24,
   "id": "0b91f3c5",
   "metadata": {},
   "outputs": [],
   "source": [
    "def HousePricePredictionModel():\n",
    "    model=Sequential() #Defining the layers one after another \n",
    "    model.add(Dense(128,activation='relu',input_shape=(x_train[0].shape)))\n",
    "    model.add(Dense(64,activation='relu'))\n",
    "    model.add(Dense(32,activation='relu'))\n",
    "    model.add(Dense(1))\n",
    "    model.compile(optimizer='rmsprop',loss='mse',metrics=['mae'])\n",
    "    return model"
   ]
  },
  {
   "cell_type": "code",
   "execution_count": 25,
   "id": "40ed2710",
   "metadata": {},
   "outputs": [],
   "source": [
    "import numpy as np\n",
    "k=4\n",
    "num_val_samples=len(x_train)\n",
    "num_epochs=100\n",
    "all_scores=[]"
   ]
  },
  {
   "cell_type": "markdown",
   "id": "18312f0d",
   "metadata": {},
   "source": [
    "# Train the model"
   ]
  },
  {
   "cell_type": "code",
   "execution_count": 26,
   "id": "31907438",
   "metadata": {},
   "outputs": [
    {
     "name": "stdout",
     "output_type": "stream",
     "text": [
      "Epoch 1/100\n",
      "404/404 [==============================] - 1s 2ms/step - loss: 130.9394 - mae: 8.1306 - val_loss: 66.3810 - val_mae: 5.9347\n",
      "Epoch 2/100\n",
      "404/404 [==============================] - 1s 1ms/step - loss: 67.3479 - mae: 5.7228 - val_loss: 59.9466 - val_mae: 5.8565\n",
      "Epoch 3/100\n",
      "404/404 [==============================] - 1s 1ms/step - loss: 63.7197 - mae: 5.5355 - val_loss: 56.4486 - val_mae: 5.4926\n",
      "Epoch 4/100\n",
      "404/404 [==============================] - 1s 1ms/step - loss: 59.6689 - mae: 5.4377 - val_loss: 71.9714 - val_mae: 5.9813\n",
      "Epoch 5/100\n",
      "404/404 [==============================] - 1s 1ms/step - loss: 58.6710 - mae: 5.2238 - val_loss: 58.4623 - val_mae: 5.4082\n",
      "Epoch 6/100\n",
      "404/404 [==============================] - 1s 1ms/step - loss: 55.5654 - mae: 5.1715 - val_loss: 58.2434 - val_mae: 5.3753\n",
      "Epoch 7/100\n",
      "404/404 [==============================] - 1s 1ms/step - loss: 55.5256 - mae: 5.0805 - val_loss: 55.3371 - val_mae: 5.2560\n",
      "Epoch 8/100\n",
      "404/404 [==============================] - 1s 1ms/step - loss: 53.7060 - mae: 4.9772 - val_loss: 49.5587 - val_mae: 5.0594\n",
      "Epoch 9/100\n",
      "404/404 [==============================] - 1s 1ms/step - loss: 51.6132 - mae: 4.8105 - val_loss: 50.4149 - val_mae: 5.3155\n",
      "Epoch 10/100\n",
      "404/404 [==============================] - 1s 1ms/step - loss: 50.3936 - mae: 4.8822 - val_loss: 48.6637 - val_mae: 4.8760\n",
      "Epoch 11/100\n",
      "404/404 [==============================] - 1s 1ms/step - loss: 49.4444 - mae: 4.8270 - val_loss: 46.4947 - val_mae: 4.7452\n",
      "Epoch 12/100\n",
      "404/404 [==============================] - 1s 1ms/step - loss: 46.9720 - mae: 4.6219 - val_loss: 53.1638 - val_mae: 5.8268\n",
      "Epoch 13/100\n",
      "404/404 [==============================] - 1s 1ms/step - loss: 45.3840 - mae: 4.5532 - val_loss: 52.5978 - val_mae: 5.8649\n",
      "Epoch 14/100\n",
      "404/404 [==============================] - 1s 1ms/step - loss: 44.7856 - mae: 4.5791 - val_loss: 42.8524 - val_mae: 4.5232\n",
      "Epoch 15/100\n",
      "404/404 [==============================] - 1s 1ms/step - loss: 41.6462 - mae: 4.3689 - val_loss: 44.6474 - val_mae: 4.6656\n",
      "Epoch 16/100\n",
      "404/404 [==============================] - 1s 1ms/step - loss: 40.7128 - mae: 4.3809 - val_loss: 43.8942 - val_mae: 4.5384\n",
      "Epoch 17/100\n",
      "404/404 [==============================] - 1s 1ms/step - loss: 39.9069 - mae: 4.3218 - val_loss: 41.7859 - val_mae: 4.4460\n",
      "Epoch 18/100\n",
      "404/404 [==============================] - 1s 1ms/step - loss: 37.9929 - mae: 4.2996 - val_loss: 36.4721 - val_mae: 4.1776\n",
      "Epoch 19/100\n",
      "404/404 [==============================] - 1s 1ms/step - loss: 38.3071 - mae: 4.3669 - val_loss: 36.1541 - val_mae: 4.1627\n",
      "Epoch 20/100\n",
      "404/404 [==============================] - 1s 1ms/step - loss: 35.9794 - mae: 4.2609 - val_loss: 43.2733 - val_mae: 4.5133\n",
      "Epoch 21/100\n",
      "404/404 [==============================] - 1s 1ms/step - loss: 35.3766 - mae: 4.2225 - val_loss: 34.0558 - val_mae: 4.0197\n",
      "Epoch 22/100\n",
      "404/404 [==============================] - 1s 1ms/step - loss: 35.6056 - mae: 4.2794 - val_loss: 30.7267 - val_mae: 4.0381\n",
      "Epoch 23/100\n",
      "404/404 [==============================] - 1s 1ms/step - loss: 34.4116 - mae: 4.2494 - val_loss: 44.6489 - val_mae: 4.6468\n",
      "Epoch 24/100\n",
      "404/404 [==============================] - 1s 1ms/step - loss: 33.2683 - mae: 4.0541 - val_loss: 37.9031 - val_mae: 4.1841\n",
      "Epoch 25/100\n",
      "404/404 [==============================] - 1s 1ms/step - loss: 32.3769 - mae: 4.0430 - val_loss: 36.7926 - val_mae: 4.1627\n",
      "Epoch 26/100\n",
      "404/404 [==============================] - 1s 1ms/step - loss: 33.6565 - mae: 3.9837 - val_loss: 29.4237 - val_mae: 3.9682\n",
      "Epoch 27/100\n",
      "404/404 [==============================] - 1s 1ms/step - loss: 32.3651 - mae: 4.0416 - val_loss: 28.3140 - val_mae: 3.7681\n",
      "Epoch 28/100\n",
      "404/404 [==============================] - 1s 1ms/step - loss: 31.5254 - mae: 3.9990 - val_loss: 30.7010 - val_mae: 3.8229\n",
      "Epoch 29/100\n",
      "404/404 [==============================] - 1s 1ms/step - loss: 29.7477 - mae: 3.8651 - val_loss: 30.8652 - val_mae: 3.8088\n",
      "Epoch 30/100\n",
      "404/404 [==============================] - 1s 1ms/step - loss: 29.7296 - mae: 3.8681 - val_loss: 28.9180 - val_mae: 3.8642\n",
      "Epoch 31/100\n",
      "404/404 [==============================] - 1s 1ms/step - loss: 28.9886 - mae: 3.7793 - val_loss: 35.7314 - val_mae: 4.1463\n",
      "Epoch 32/100\n",
      "404/404 [==============================] - 1s 1ms/step - loss: 28.6639 - mae: 3.8593 - val_loss: 26.9770 - val_mae: 3.9293\n",
      "Epoch 33/100\n",
      "404/404 [==============================] - 1s 1ms/step - loss: 28.6076 - mae: 3.7249 - val_loss: 30.2945 - val_mae: 4.4292\n",
      "Epoch 34/100\n",
      "404/404 [==============================] - 1s 1ms/step - loss: 26.7358 - mae: 3.7709 - val_loss: 26.4470 - val_mae: 3.7143\n",
      "Epoch 35/100\n",
      "404/404 [==============================] - 1s 1ms/step - loss: 27.2726 - mae: 3.7476 - val_loss: 25.8838 - val_mae: 3.7755\n",
      "Epoch 36/100\n",
      "404/404 [==============================] - 1s 1ms/step - loss: 26.7961 - mae: 3.6638 - val_loss: 34.9437 - val_mae: 4.9408\n",
      "Epoch 37/100\n",
      "404/404 [==============================] - 1s 2ms/step - loss: 24.8545 - mae: 3.5386 - val_loss: 32.4160 - val_mae: 3.9697\n",
      "Epoch 38/100\n",
      "404/404 [==============================] - 1s 1ms/step - loss: 24.1801 - mae: 3.4995 - val_loss: 46.3592 - val_mae: 4.9043\n",
      "Epoch 39/100\n",
      "404/404 [==============================] - 1s 1ms/step - loss: 24.9748 - mae: 3.5675 - val_loss: 28.0573 - val_mae: 4.1906\n",
      "Epoch 40/100\n",
      "404/404 [==============================] - 1s 1ms/step - loss: 23.6518 - mae: 3.4044 - val_loss: 28.8756 - val_mae: 3.7520\n",
      "Epoch 41/100\n",
      "404/404 [==============================] - 1s 1ms/step - loss: 23.2457 - mae: 3.4174 - val_loss: 24.1705 - val_mae: 3.5840\n",
      "Epoch 42/100\n",
      "404/404 [==============================] - 1s 1ms/step - loss: 22.6915 - mae: 3.4974 - val_loss: 24.5114 - val_mae: 3.6700\n",
      "Epoch 43/100\n",
      "404/404 [==============================] - 1s 1ms/step - loss: 24.0790 - mae: 3.4636 - val_loss: 30.7225 - val_mae: 3.8985\n",
      "Epoch 44/100\n",
      "404/404 [==============================] - 1s 1ms/step - loss: 21.9242 - mae: 3.3634 - val_loss: 25.3001 - val_mae: 3.6215\n",
      "Epoch 45/100\n",
      "404/404 [==============================] - 1s 2ms/step - loss: 22.0060 - mae: 3.3748 - val_loss: 31.6287 - val_mae: 3.9587\n",
      "Epoch 46/100\n",
      "404/404 [==============================] - 1s 2ms/step - loss: 22.0914 - mae: 3.3855 - val_loss: 24.8839 - val_mae: 3.4860\n",
      "Epoch 47/100\n",
      "404/404 [==============================] - 1s 1ms/step - loss: 22.1941 - mae: 3.3273 - val_loss: 27.4359 - val_mae: 3.9821\n",
      "Epoch 48/100\n",
      "404/404 [==============================] - 1s 1ms/step - loss: 21.3255 - mae: 3.2542 - val_loss: 32.2092 - val_mae: 4.0209\n",
      "Epoch 49/100\n",
      "404/404 [==============================] - 1s 1ms/step - loss: 20.4536 - mae: 3.3553 - val_loss: 34.0758 - val_mae: 4.0922\n",
      "Epoch 50/100\n",
      "404/404 [==============================] - 1s 1ms/step - loss: 21.5286 - mae: 3.2259 - val_loss: 31.1939 - val_mae: 4.3500\n",
      "Epoch 51/100\n",
      "404/404 [==============================] - 1s 2ms/step - loss: 20.4119 - mae: 3.2868 - val_loss: 38.0493 - val_mae: 4.4585\n",
      "Epoch 52/100\n",
      "404/404 [==============================] - 1s 2ms/step - loss: 20.5193 - mae: 3.2405 - val_loss: 26.6704 - val_mae: 3.6927\n",
      "Epoch 53/100\n",
      "404/404 [==============================] - 1s 2ms/step - loss: 19.1205 - mae: 3.1802 - val_loss: 26.4142 - val_mae: 3.7106\n",
      "Epoch 54/100\n",
      "404/404 [==============================] - 1s 1ms/step - loss: 19.9229 - mae: 3.1534 - val_loss: 27.5860 - val_mae: 3.6758\n",
      "Epoch 55/100\n",
      "404/404 [==============================] - 1s 1ms/step - loss: 19.3682 - mae: 3.1233 - val_loss: 26.9773 - val_mae: 3.7113\n",
      "Epoch 56/100\n",
      "404/404 [==============================] - 1s 1ms/step - loss: 19.3530 - mae: 3.1216 - val_loss: 32.3222 - val_mae: 4.1998\n",
      "Epoch 57/100\n",
      "404/404 [==============================] - 1s 1ms/step - loss: 19.1961 - mae: 3.1963 - val_loss: 34.2218 - val_mae: 4.1326\n",
      "Epoch 58/100\n",
      "404/404 [==============================] - 1s 1ms/step - loss: 20.2870 - mae: 3.1171 - val_loss: 29.0376 - val_mae: 3.7701\n",
      "Epoch 59/100\n",
      "404/404 [==============================] - 1s 1ms/step - loss: 18.7688 - mae: 3.0535 - val_loss: 28.3364 - val_mae: 3.6597\n",
      "Epoch 60/100\n",
      "404/404 [==============================] - 1s 2ms/step - loss: 18.5088 - mae: 3.0643 - val_loss: 29.3513 - val_mae: 3.7358\n",
      "Epoch 61/100\n",
      "404/404 [==============================] - 1s 2ms/step - loss: 18.3260 - mae: 3.0391 - val_loss: 27.2317 - val_mae: 3.5600\n",
      "Epoch 62/100\n",
      "404/404 [==============================] - 1s 2ms/step - loss: 18.4968 - mae: 3.0764 - val_loss: 30.9889 - val_mae: 3.8749\n",
      "Epoch 63/100\n",
      "404/404 [==============================] - 1s 1ms/step - loss: 19.3589 - mae: 3.1166 - val_loss: 28.7817 - val_mae: 3.6874\n",
      "Epoch 64/100\n",
      "404/404 [==============================] - 1s 2ms/step - loss: 18.5541 - mae: 3.0663 - val_loss: 34.7338 - val_mae: 4.2318\n",
      "Epoch 65/100\n",
      "404/404 [==============================] - 1s 2ms/step - loss: 17.4219 - mae: 2.9760 - val_loss: 28.4101 - val_mae: 3.6310\n",
      "Epoch 66/100\n",
      "404/404 [==============================] - 1s 2ms/step - loss: 17.8851 - mae: 3.0497 - val_loss: 30.8610 - val_mae: 3.7071\n",
      "Epoch 67/100\n",
      "404/404 [==============================] - 1s 2ms/step - loss: 17.4587 - mae: 3.0618 - val_loss: 33.3287 - val_mae: 3.9165\n",
      "Epoch 68/100\n",
      "404/404 [==============================] - 1s 2ms/step - loss: 17.8838 - mae: 3.0806 - val_loss: 31.1398 - val_mae: 3.8488\n",
      "Epoch 69/100\n",
      "404/404 [==============================] - 1s 2ms/step - loss: 18.1990 - mae: 3.0159 - val_loss: 30.6613 - val_mae: 3.8564\n",
      "Epoch 70/100\n",
      "404/404 [==============================] - 1s 1ms/step - loss: 18.1377 - mae: 3.0104 - val_loss: 27.1830 - val_mae: 3.4775\n",
      "Epoch 71/100\n",
      "404/404 [==============================] - 1s 2ms/step - loss: 16.7817 - mae: 2.9942 - val_loss: 43.3430 - val_mae: 5.1872\n",
      "Epoch 72/100\n",
      "404/404 [==============================] - 1s 2ms/step - loss: 18.8025 - mae: 3.0277 - val_loss: 28.4907 - val_mae: 3.5766\n",
      "Epoch 73/100\n",
      "404/404 [==============================] - 1s 1ms/step - loss: 17.8807 - mae: 3.1134 - val_loss: 28.8055 - val_mae: 3.5914\n",
      "Epoch 74/100\n",
      "404/404 [==============================] - 1s 2ms/step - loss: 17.7299 - mae: 3.0419 - val_loss: 27.7889 - val_mae: 3.5113\n",
      "Epoch 75/100\n",
      "404/404 [==============================] - 1s 2ms/step - loss: 18.2297 - mae: 3.0632 - val_loss: 28.8100 - val_mae: 3.6941\n",
      "Epoch 76/100\n",
      "404/404 [==============================] - 1s 1ms/step - loss: 18.7160 - mae: 3.1041 - val_loss: 33.5918 - val_mae: 4.0926\n",
      "Epoch 77/100\n",
      "404/404 [==============================] - 1s 1ms/step - loss: 18.2076 - mae: 2.9486 - val_loss: 27.0673 - val_mae: 3.4694\n",
      "Epoch 78/100\n",
      "404/404 [==============================] - 1s 1ms/step - loss: 17.1587 - mae: 2.9961 - val_loss: 29.4361 - val_mae: 3.6759\n",
      "Epoch 79/100\n",
      "404/404 [==============================] - 1s 1ms/step - loss: 16.6249 - mae: 2.8622 - val_loss: 31.5177 - val_mae: 3.8424\n",
      "Epoch 80/100\n",
      "404/404 [==============================] - 1s 1ms/step - loss: 17.8115 - mae: 3.0028 - val_loss: 29.6286 - val_mae: 3.7133\n",
      "Epoch 81/100\n",
      "404/404 [==============================] - 1s 1ms/step - loss: 17.5525 - mae: 3.0163 - val_loss: 31.2862 - val_mae: 4.0948\n",
      "Epoch 82/100\n",
      "404/404 [==============================] - 1s 1ms/step - loss: 16.8248 - mae: 2.9038 - val_loss: 34.2211 - val_mae: 4.0342\n",
      "Epoch 83/100\n",
      "404/404 [==============================] - 1s 1ms/step - loss: 17.2861 - mae: 3.0338 - val_loss: 29.8490 - val_mae: 3.6793\n",
      "Epoch 84/100\n",
      "404/404 [==============================] - 1s 1ms/step - loss: 17.6747 - mae: 3.0570 - val_loss: 30.2507 - val_mae: 3.6616\n",
      "Epoch 85/100\n",
      "404/404 [==============================] - 1s 1ms/step - loss: 17.8244 - mae: 2.9131 - val_loss: 26.4317 - val_mae: 3.4805\n",
      "Epoch 86/100\n",
      "404/404 [==============================] - 1s 1ms/step - loss: 17.3235 - mae: 2.9568 - val_loss: 27.5921 - val_mae: 3.4994\n",
      "Epoch 87/100\n",
      "404/404 [==============================] - 1s 1ms/step - loss: 16.0993 - mae: 2.9138 - val_loss: 27.0505 - val_mae: 3.5761\n",
      "Epoch 88/100\n",
      "404/404 [==============================] - 1s 1ms/step - loss: 16.7218 - mae: 2.9177 - val_loss: 29.2230 - val_mae: 3.6390\n",
      "Epoch 89/100\n",
      "404/404 [==============================] - 1s 1ms/step - loss: 18.0028 - mae: 2.9188 - val_loss: 26.6166 - val_mae: 3.7747\n",
      "Epoch 90/100\n",
      "404/404 [==============================] - 1s 1ms/step - loss: 16.0985 - mae: 2.9301 - val_loss: 27.0516 - val_mae: 3.5253\n",
      "Epoch 91/100\n",
      "404/404 [==============================] - 1s 1ms/step - loss: 17.3530 - mae: 2.8648 - val_loss: 28.5801 - val_mae: 3.8645\n",
      "Epoch 92/100\n",
      "404/404 [==============================] - 1s 1ms/step - loss: 17.3243 - mae: 2.9155 - val_loss: 28.8402 - val_mae: 3.7676\n",
      "Epoch 93/100\n",
      "404/404 [==============================] - 1s 1ms/step - loss: 15.8971 - mae: 2.8655 - val_loss: 28.3376 - val_mae: 3.5774\n",
      "Epoch 94/100\n",
      "404/404 [==============================] - 1s 1ms/step - loss: 16.2671 - mae: 2.9539 - val_loss: 33.4177 - val_mae: 3.7507\n",
      "Epoch 95/100\n",
      "404/404 [==============================] - 1s 1ms/step - loss: 17.0754 - mae: 2.9394 - val_loss: 45.1074 - val_mae: 4.9634\n",
      "Epoch 96/100\n",
      "404/404 [==============================] - 1s 1ms/step - loss: 16.2473 - mae: 2.9458 - val_loss: 35.6298 - val_mae: 4.0794\n",
      "Epoch 97/100\n",
      "404/404 [==============================] - 1s 1ms/step - loss: 16.3384 - mae: 2.8867 - val_loss: 27.4522 - val_mae: 3.5057\n",
      "Epoch 98/100\n",
      "404/404 [==============================] - 1s 2ms/step - loss: 15.1497 - mae: 2.8009 - val_loss: 31.8106 - val_mae: 3.7909\n",
      "Epoch 99/100\n",
      "404/404 [==============================] - 1s 2ms/step - loss: 15.8554 - mae: 2.8767 - val_loss: 32.0391 - val_mae: 3.8222\n",
      "Epoch 100/100\n",
      "404/404 [==============================] - 1s 1ms/step - loss: 15.6869 - mae: 2.8417 - val_loss: 34.2965 - val_mae: 3.9220\n"
     ]
    }
   ],
   "source": [
    "model=HousePricePredictionModel()\n",
    "history=model.fit(x=x_train,y=y_train,epochs=num_epochs,batch_size=1,verbose=1,validation_data=(x_test,y_test))"
   ]
  },
  {
   "cell_type": "code",
   "execution_count": 27,
   "id": "4a2b1a4c",
   "metadata": {},
   "outputs": [
    {
     "name": "stdout",
     "output_type": "stream",
     "text": [
      "Actual output : 21.1\n",
      "Prediction output :  [[24.391521]]\n"
     ]
    }
   ],
   "source": [
    "test_input = [[8.65407330e-05,0.00000000e+00,1.13392175e-02,0.00000000e+00,1.12518247e-03,1.31897603e-02,7.53763011e-02,1.30768051e-02,1.09241016e-02,4.89399752e-01,4.41333705e-02,8.67155186e-01,1.75004108e-02]]\n",
    "print(\"Actual output : 21.1\")\n",
    "print(\"Prediction output : \",model.predict(test_input))"
   ]
  },
  {
   "cell_type": "code",
   "execution_count": null,
   "id": "ef65cbd7",
   "metadata": {},
   "outputs": [],
   "source": []
  }
 ],
 "metadata": {
  "kernelspec": {
   "display_name": "Python 3",
   "language": "python",
   "name": "python3"
  },
  "language_info": {
   "codemirror_mode": {
    "name": "ipython",
    "version": 3
   },
   "file_extension": ".py",
   "mimetype": "text/x-python",
   "name": "python",
   "nbconvert_exporter": "python",
   "pygments_lexer": "ipython3",
   "version": "3.8.8"
  }
 },
 "nbformat": 4,
 "nbformat_minor": 5
}
