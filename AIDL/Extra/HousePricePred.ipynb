{
 "cells": [
  {
   "cell_type": "code",
   "execution_count": 1,
   "metadata": {
    "id": "ncsMY497KU9r"
   },
   "outputs": [],
   "source": [
    "import tensorflow as tf\n",
    "from tensorflow.keras.datasets import boston_housing\n",
    "from sklearn import preprocessing"
   ]
  },
  {
   "cell_type": "code",
   "execution_count": 2,
   "metadata": {
    "id": "5pf9eLCjPYjw"
   },
   "outputs": [],
   "source": [
    "(train_x, train_y),(test_x,test_y) = boston_housing.load_data()"
   ]
  },
  {
   "cell_type": "code",
   "execution_count": 3,
   "metadata": {
    "colab": {
     "base_uri": "https://localhost:8080/"
    },
    "id": "rr6uQnnvRSC2",
    "outputId": "e493b9a2-79f7-4cca-9360-d1ca16c11eb3"
   },
   "outputs": [
    {
     "name": "stdout",
     "output_type": "stream",
     "text": [
      "Train shape :  (404, 13)\n",
      "Test shape :  (102, 13)\n",
      "Actual train output :  (404,)\n",
      "Actual test output :  (102,)\n"
     ]
    }
   ],
   "source": [
    "print(\"Train shape : \",train_x.shape)\n",
    "print(\"Test shape : \",test_x.shape)\n",
    "print(\"Actual train output : \",train_y.shape)\n",
    "print(\"Actual test output : \",test_y.shape)"
   ]
  },
  {
   "cell_type": "code",
   "execution_count": 4,
   "metadata": {
    "colab": {
     "base_uri": "https://localhost:8080/"
    },
    "id": "vkvJVDXxOQpw",
    "outputId": "8dd781c6-c4bb-42ae-bd0e-8c7e37aecdf8"
   },
   "outputs": [
    {
     "data": {
      "text/plain": [
       "array([  1.23247,   0.     ,   8.14   ,   0.     ,   0.538  ,   6.142  ,\n",
       "        91.7    ,   3.9769 ,   4.     , 307.     ,  21.     , 396.9    ,\n",
       "        18.72   ])"
      ]
     },
     "execution_count": 4,
     "metadata": {},
     "output_type": "execute_result"
    }
   ],
   "source": [
    "train_x[0]"
   ]
  },
  {
   "cell_type": "code",
   "execution_count": 5,
   "metadata": {
    "colab": {
     "base_uri": "https://localhost:8080/"
    },
    "id": "liUxtfL-OVpz",
    "outputId": "e1ad8d75-f77d-4137-afc3-109ea9896845"
   },
   "outputs": [
    {
     "data": {
      "text/plain": [
       "15.2"
      ]
     },
     "execution_count": 5,
     "metadata": {},
     "output_type": "execute_result"
    }
   ],
   "source": [
    "train_y[0]"
   ]
  },
  {
   "cell_type": "code",
   "execution_count": 6,
   "metadata": {
    "id": "330J-TFsOg2R"
   },
   "outputs": [],
   "source": [
    "train_x = preprocessing.normalize(train_x)\n",
    "test_x = preprocessing.normalize(test_x)"
   ]
  },
  {
   "cell_type": "code",
   "execution_count": 7,
   "metadata": {
    "colab": {
     "base_uri": "https://localhost:8080/"
    },
    "id": "BNJb1BK7O3pE",
    "outputId": "b16f6d3f-0c7e-4a13-fc2e-61dcaf914f76"
   },
   "outputs": [
    {
     "data": {
      "text/plain": [
       "array([0.0024119 , 0.        , 0.01592969, 0.        , 0.00105285,\n",
       "       0.01201967, 0.17945359, 0.00778265, 0.00782786, 0.6007879 ,\n",
       "       0.04109624, 0.77671895, 0.03663436])"
      ]
     },
     "execution_count": 7,
     "metadata": {},
     "output_type": "execute_result"
    }
   ],
   "source": [
    "train_x[0]"
   ]
  },
  {
   "cell_type": "code",
   "execution_count": 8,
   "metadata": {
    "colab": {
     "base_uri": "https://localhost:8080/"
    },
    "id": "zav7Nrz7O6oU",
    "outputId": "2a2a97ab-9928-40fe-80fc-c842e8addde5"
   },
   "outputs": [
    {
     "data": {
      "text/plain": [
       "15.2"
      ]
     },
     "execution_count": 8,
     "metadata": {},
     "output_type": "execute_result"
    }
   ],
   "source": [
    "train_y[0]"
   ]
  },
  {
   "cell_type": "code",
   "execution_count": 9,
   "metadata": {
    "id": "VJREWm5MO9XB"
   },
   "outputs": [],
   "source": [
    "from tensorflow.keras.models import Sequential\n",
    "from tensorflow.keras.layers import *\n",
    "\n",
    "def HousePricePredictionModel():\n",
    "  model=Sequential()\n",
    "  model.add(Dense(128,activation='relu', input_shape=(train_x[0].shape)))\n",
    "  model.add(Dense(64,activation='relu'))\n",
    "  model.add(Dense(32,activation='relu'))\n",
    "  model.add(Dense(1))\n",
    "  model.compile(optimizer='rmsprop', loss='mse', metrics=['mae'])\n",
    "  return model"
   ]
  },
  {
   "cell_type": "code",
   "execution_count": 10,
   "metadata": {
    "id": "Lw10CgPoQhlG"
   },
   "outputs": [],
   "source": [
    "import numpy as np\n",
    "k = 4\n",
    "num_val_samples = len(train_x)\n",
    "num_epochs = 100\n",
    "all_score = []"
   ]
  },
  {
   "cell_type": "code",
   "execution_count": 11,
   "metadata": {
    "colab": {
     "base_uri": "https://localhost:8080/"
    },
    "id": "mzwPk-NxQ1QN",
    "outputId": "a6043844-44ad-408b-d31d-5b57c9dbed05"
   },
   "outputs": [
    {
     "name": "stdout",
     "output_type": "stream",
     "text": [
      "Epoch 1/100\n",
      "404/404 [==============================] - 2s 3ms/step - loss: 131.5630 - mae: 8.4598 - val_loss: 70.2546 - val_mae: 6.0348\n",
      "Epoch 2/100\n",
      "404/404 [==============================] - 1s 2ms/step - loss: 68.9304 - mae: 5.8179 - val_loss: 76.4375 - val_mae: 6.1910\n",
      "Epoch 3/100\n",
      "404/404 [==============================] - 1s 2ms/step - loss: 63.2092 - mae: 5.5522 - val_loss: 59.8912 - val_mae: 5.5836\n",
      "Epoch 4/100\n",
      "404/404 [==============================] - 2s 4ms/step - loss: 62.1056 - mae: 5.4095 - val_loss: 56.6589 - val_mae: 5.4957\n",
      "Epoch 5/100\n",
      "404/404 [==============================] - 2s 5ms/step - loss: 58.8352 - mae: 5.2379 - val_loss: 63.9712 - val_mae: 6.3192\n",
      "Epoch 6/100\n",
      "404/404 [==============================] - 2s 5ms/step - loss: 57.4629 - mae: 5.1939 - val_loss: 56.9613 - val_mae: 5.7793\n",
      "Epoch 7/100\n",
      "404/404 [==============================] - 1s 3ms/step - loss: 56.9082 - mae: 5.1321 - val_loss: 53.6372 - val_mae: 5.5019\n",
      "Epoch 8/100\n",
      "404/404 [==============================] - 1s 2ms/step - loss: 54.3385 - mae: 5.0388 - val_loss: 52.1532 - val_mae: 5.1966\n",
      "Epoch 9/100\n",
      "404/404 [==============================] - 1s 2ms/step - loss: 53.8489 - mae: 4.9127 - val_loss: 53.0535 - val_mae: 5.1611\n",
      "Epoch 10/100\n",
      "404/404 [==============================] - 1s 2ms/step - loss: 52.4546 - mae: 4.7923 - val_loss: 49.3943 - val_mae: 5.1095\n",
      "Epoch 11/100\n",
      "404/404 [==============================] - 1s 2ms/step - loss: 50.6087 - mae: 4.8083 - val_loss: 66.7526 - val_mae: 5.7466\n",
      "Epoch 12/100\n",
      "404/404 [==============================] - 1s 2ms/step - loss: 48.6986 - mae: 4.7127 - val_loss: 51.5529 - val_mae: 5.0341\n",
      "Epoch 13/100\n",
      "404/404 [==============================] - 1s 2ms/step - loss: 48.3915 - mae: 4.6139 - val_loss: 45.8406 - val_mae: 4.7987\n",
      "Epoch 14/100\n",
      "404/404 [==============================] - 1s 2ms/step - loss: 46.5695 - mae: 4.5685 - val_loss: 48.8097 - val_mae: 5.3325\n",
      "Epoch 15/100\n",
      "404/404 [==============================] - 1s 2ms/step - loss: 46.0476 - mae: 4.6086 - val_loss: 44.3979 - val_mae: 4.6359\n",
      "Epoch 16/100\n",
      "404/404 [==============================] - 1s 2ms/step - loss: 44.9669 - mae: 4.5252 - val_loss: 47.3544 - val_mae: 4.8065\n",
      "Epoch 17/100\n",
      "404/404 [==============================] - 1s 2ms/step - loss: 42.7729 - mae: 4.4835 - val_loss: 39.6438 - val_mae: 4.4273\n",
      "Epoch 18/100\n",
      "404/404 [==============================] - 1s 2ms/step - loss: 42.0185 - mae: 4.3785 - val_loss: 39.8726 - val_mae: 4.3754\n",
      "Epoch 19/100\n",
      "404/404 [==============================] - 1s 2ms/step - loss: 39.9938 - mae: 4.3408 - val_loss: 37.8725 - val_mae: 4.2486\n",
      "Epoch 20/100\n",
      "404/404 [==============================] - 1s 2ms/step - loss: 39.2201 - mae: 4.3143 - val_loss: 35.9424 - val_mae: 4.1515\n",
      "Epoch 21/100\n",
      "404/404 [==============================] - 1s 2ms/step - loss: 36.3957 - mae: 4.1631 - val_loss: 38.6122 - val_mae: 4.7886\n",
      "Epoch 22/100\n",
      "404/404 [==============================] - 1s 2ms/step - loss: 34.7274 - mae: 4.0694 - val_loss: 38.3806 - val_mae: 4.8476\n",
      "Epoch 23/100\n",
      "404/404 [==============================] - 1s 2ms/step - loss: 36.0564 - mae: 4.1285 - val_loss: 32.1783 - val_mae: 4.0510\n",
      "Epoch 24/100\n",
      "404/404 [==============================] - 1s 2ms/step - loss: 34.0693 - mae: 4.0039 - val_loss: 37.1287 - val_mae: 4.1445\n",
      "Epoch 25/100\n",
      "404/404 [==============================] - 1s 2ms/step - loss: 33.4749 - mae: 4.0927 - val_loss: 34.7993 - val_mae: 4.5976\n",
      "Epoch 26/100\n",
      "404/404 [==============================] - 1s 2ms/step - loss: 33.3964 - mae: 4.0744 - val_loss: 30.8330 - val_mae: 3.9091\n",
      "Epoch 27/100\n",
      "404/404 [==============================] - 1s 2ms/step - loss: 31.4375 - mae: 3.9539 - val_loss: 29.4777 - val_mae: 3.8830\n",
      "Epoch 28/100\n",
      "404/404 [==============================] - 1s 2ms/step - loss: 31.2644 - mae: 3.9340 - val_loss: 34.0504 - val_mae: 3.9976\n",
      "Epoch 29/100\n",
      "404/404 [==============================] - 1s 2ms/step - loss: 31.2808 - mae: 3.9915 - val_loss: 29.5225 - val_mae: 4.0423\n",
      "Epoch 30/100\n",
      "404/404 [==============================] - 1s 2ms/step - loss: 30.6064 - mae: 3.9688 - val_loss: 31.5249 - val_mae: 3.8152\n",
      "Epoch 31/100\n",
      "404/404 [==============================] - 1s 2ms/step - loss: 30.1716 - mae: 3.8748 - val_loss: 28.7259 - val_mae: 3.6814\n",
      "Epoch 32/100\n",
      "404/404 [==============================] - 1s 2ms/step - loss: 28.5575 - mae: 3.7724 - val_loss: 32.2512 - val_mae: 3.8697\n",
      "Epoch 33/100\n",
      "404/404 [==============================] - 1s 2ms/step - loss: 29.0391 - mae: 3.7386 - val_loss: 28.2835 - val_mae: 4.0105\n",
      "Epoch 34/100\n",
      "404/404 [==============================] - 1s 2ms/step - loss: 27.7265 - mae: 3.7953 - val_loss: 33.8915 - val_mae: 3.9538\n",
      "Epoch 35/100\n",
      "404/404 [==============================] - 1s 2ms/step - loss: 26.8540 - mae: 3.6711 - val_loss: 36.6990 - val_mae: 5.0973\n",
      "Epoch 36/100\n",
      "404/404 [==============================] - 1s 2ms/step - loss: 27.2003 - mae: 3.7412 - val_loss: 27.1518 - val_mae: 3.8595\n",
      "Epoch 37/100\n",
      "404/404 [==============================] - 1s 2ms/step - loss: 26.4419 - mae: 3.6300 - val_loss: 38.1720 - val_mae: 4.4029\n",
      "Epoch 38/100\n",
      "404/404 [==============================] - 1s 2ms/step - loss: 26.4128 - mae: 3.6503 - val_loss: 36.6055 - val_mae: 4.1779\n",
      "Epoch 39/100\n",
      "404/404 [==============================] - 1s 2ms/step - loss: 25.6990 - mae: 3.5755 - val_loss: 35.6409 - val_mae: 4.1231\n",
      "Epoch 40/100\n",
      "404/404 [==============================] - 1s 2ms/step - loss: 25.8459 - mae: 3.5374 - val_loss: 26.0875 - val_mae: 3.8369\n",
      "Epoch 41/100\n",
      "404/404 [==============================] - 1s 2ms/step - loss: 24.6150 - mae: 3.5492 - val_loss: 27.2063 - val_mae: 3.9860\n",
      "Epoch 42/100\n",
      "404/404 [==============================] - 1s 2ms/step - loss: 24.1091 - mae: 3.5253 - val_loss: 29.3670 - val_mae: 4.2969\n",
      "Epoch 43/100\n",
      "404/404 [==============================] - 1s 2ms/step - loss: 23.4955 - mae: 3.3385 - val_loss: 59.1844 - val_mae: 6.7399\n",
      "Epoch 44/100\n",
      "404/404 [==============================] - 1s 2ms/step - loss: 24.7756 - mae: 3.5408 - val_loss: 29.3916 - val_mae: 3.7770\n",
      "Epoch 45/100\n",
      "404/404 [==============================] - 1s 2ms/step - loss: 23.1719 - mae: 3.4058 - val_loss: 24.9147 - val_mae: 3.5165\n",
      "Epoch 46/100\n",
      "404/404 [==============================] - 1s 2ms/step - loss: 22.3448 - mae: 3.4277 - val_loss: 27.4775 - val_mae: 3.7263\n",
      "Epoch 47/100\n",
      "404/404 [==============================] - 1s 2ms/step - loss: 21.5534 - mae: 3.3253 - val_loss: 26.2502 - val_mae: 3.7112\n",
      "Epoch 48/100\n",
      "404/404 [==============================] - 1s 2ms/step - loss: 21.9805 - mae: 3.3156 - val_loss: 27.5574 - val_mae: 3.7015\n",
      "Epoch 49/100\n",
      "404/404 [==============================] - 1s 2ms/step - loss: 21.4048 - mae: 3.3450 - val_loss: 28.1906 - val_mae: 4.0492\n",
      "Epoch 50/100\n",
      "404/404 [==============================] - 1s 2ms/step - loss: 21.9164 - mae: 3.3016 - val_loss: 24.7891 - val_mae: 3.6030\n",
      "Epoch 51/100\n",
      "404/404 [==============================] - 1s 2ms/step - loss: 20.6140 - mae: 3.3066 - val_loss: 26.4705 - val_mae: 3.6363\n",
      "Epoch 52/100\n",
      "404/404 [==============================] - 1s 2ms/step - loss: 20.7758 - mae: 3.2055 - val_loss: 30.2176 - val_mae: 3.8554\n",
      "Epoch 53/100\n",
      "404/404 [==============================] - 1s 2ms/step - loss: 20.3759 - mae: 3.1906 - val_loss: 25.8688 - val_mae: 3.6374\n",
      "Epoch 54/100\n",
      "404/404 [==============================] - 1s 2ms/step - loss: 19.9127 - mae: 3.2027 - val_loss: 32.8534 - val_mae: 4.0822\n",
      "Epoch 55/100\n",
      "404/404 [==============================] - 1s 2ms/step - loss: 19.6105 - mae: 3.2654 - val_loss: 31.0173 - val_mae: 3.8714\n",
      "Epoch 56/100\n",
      "404/404 [==============================] - 1s 2ms/step - loss: 19.6271 - mae: 3.1855 - val_loss: 25.7980 - val_mae: 3.5951\n",
      "Epoch 57/100\n",
      "404/404 [==============================] - 1s 2ms/step - loss: 19.8050 - mae: 3.1587 - val_loss: 30.6521 - val_mae: 3.9254\n",
      "Epoch 58/100\n",
      "404/404 [==============================] - 1s 2ms/step - loss: 17.6315 - mae: 3.1113 - val_loss: 35.3139 - val_mae: 4.2744\n",
      "Epoch 59/100\n",
      "404/404 [==============================] - 1s 2ms/step - loss: 18.4224 - mae: 3.0529 - val_loss: 29.8303 - val_mae: 3.8610\n",
      "Epoch 60/100\n",
      "404/404 [==============================] - 1s 2ms/step - loss: 18.3095 - mae: 3.1451 - val_loss: 29.6777 - val_mae: 3.7963\n",
      "Epoch 61/100\n",
      "404/404 [==============================] - 1s 2ms/step - loss: 18.7221 - mae: 3.0893 - val_loss: 34.2201 - val_mae: 4.4201\n",
      "Epoch 62/100\n",
      "404/404 [==============================] - 1s 2ms/step - loss: 18.9461 - mae: 3.1026 - val_loss: 32.7317 - val_mae: 3.9951\n",
      "Epoch 63/100\n",
      "404/404 [==============================] - 1s 2ms/step - loss: 18.6986 - mae: 3.0748 - val_loss: 29.6309 - val_mae: 3.8656\n",
      "Epoch 64/100\n",
      "404/404 [==============================] - 1s 2ms/step - loss: 18.4101 - mae: 3.1397 - val_loss: 29.0877 - val_mae: 3.9613\n",
      "Epoch 65/100\n",
      "404/404 [==============================] - 1s 2ms/step - loss: 18.1211 - mae: 3.0598 - val_loss: 30.9783 - val_mae: 3.8662\n",
      "Epoch 66/100\n",
      "404/404 [==============================] - 1s 2ms/step - loss: 18.7979 - mae: 3.1541 - val_loss: 28.4213 - val_mae: 3.6474\n",
      "Epoch 67/100\n",
      "404/404 [==============================] - 1s 2ms/step - loss: 17.5117 - mae: 3.0164 - val_loss: 27.7276 - val_mae: 3.7264\n",
      "Epoch 68/100\n",
      "404/404 [==============================] - 1s 2ms/step - loss: 16.9732 - mae: 3.0314 - val_loss: 28.9407 - val_mae: 3.6850\n",
      "Epoch 69/100\n",
      "404/404 [==============================] - 1s 2ms/step - loss: 18.5780 - mae: 3.1146 - val_loss: 29.1067 - val_mae: 3.8606\n",
      "Epoch 70/100\n",
      "404/404 [==============================] - 1s 2ms/step - loss: 16.8767 - mae: 3.0169 - val_loss: 31.1477 - val_mae: 3.8574\n",
      "Epoch 71/100\n",
      "404/404 [==============================] - 1s 3ms/step - loss: 17.3763 - mae: 3.0172 - val_loss: 34.6501 - val_mae: 4.3042\n",
      "Epoch 72/100\n",
      "404/404 [==============================] - 1s 2ms/step - loss: 17.4391 - mae: 3.1082 - val_loss: 27.6261 - val_mae: 3.5307\n",
      "Epoch 73/100\n",
      "404/404 [==============================] - 1s 2ms/step - loss: 16.7590 - mae: 2.9396 - val_loss: 28.5168 - val_mae: 3.7270\n",
      "Epoch 74/100\n",
      "404/404 [==============================] - 1s 2ms/step - loss: 17.0792 - mae: 2.9903 - val_loss: 41.8970 - val_mae: 4.6967\n",
      "Epoch 75/100\n",
      "404/404 [==============================] - 1s 2ms/step - loss: 18.5146 - mae: 3.0214 - val_loss: 27.9776 - val_mae: 3.6146\n",
      "Epoch 76/100\n",
      "404/404 [==============================] - 1s 2ms/step - loss: 16.5090 - mae: 2.8960 - val_loss: 29.0426 - val_mae: 3.8773\n",
      "Epoch 77/100\n",
      "404/404 [==============================] - 1s 2ms/step - loss: 18.0031 - mae: 3.0854 - val_loss: 30.5548 - val_mae: 3.6807\n",
      "Epoch 78/100\n",
      "404/404 [==============================] - 1s 2ms/step - loss: 17.7325 - mae: 2.9860 - val_loss: 29.9530 - val_mae: 3.7220\n",
      "Epoch 79/100\n",
      "404/404 [==============================] - 1s 2ms/step - loss: 17.2183 - mae: 2.9737 - val_loss: 27.6476 - val_mae: 3.7922\n",
      "Epoch 80/100\n",
      "404/404 [==============================] - 1s 2ms/step - loss: 17.2447 - mae: 2.9687 - val_loss: 31.0751 - val_mae: 3.8521\n",
      "Epoch 81/100\n",
      "404/404 [==============================] - 1s 2ms/step - loss: 17.6156 - mae: 2.9942 - val_loss: 30.5319 - val_mae: 3.8170\n",
      "Epoch 82/100\n",
      "404/404 [==============================] - 1s 2ms/step - loss: 17.5642 - mae: 3.0498 - val_loss: 30.4462 - val_mae: 3.7970\n",
      "Epoch 83/100\n",
      "404/404 [==============================] - 1s 2ms/step - loss: 17.8321 - mae: 3.0326 - val_loss: 33.7110 - val_mae: 4.0337\n",
      "Epoch 84/100\n",
      "404/404 [==============================] - 1s 2ms/step - loss: 17.4147 - mae: 2.9094 - val_loss: 30.3295 - val_mae: 3.7001\n",
      "Epoch 85/100\n",
      "404/404 [==============================] - 1s 2ms/step - loss: 16.6903 - mae: 2.9047 - val_loss: 29.1087 - val_mae: 3.7250\n",
      "Epoch 86/100\n",
      "404/404 [==============================] - 1s 2ms/step - loss: 16.9186 - mae: 2.9621 - val_loss: 28.7617 - val_mae: 3.7140\n",
      "Epoch 87/100\n",
      "404/404 [==============================] - 1s 2ms/step - loss: 16.1947 - mae: 2.9056 - val_loss: 28.4724 - val_mae: 3.6145\n",
      "Epoch 88/100\n",
      "404/404 [==============================] - 1s 2ms/step - loss: 15.8094 - mae: 2.9022 - val_loss: 31.8115 - val_mae: 3.7787\n",
      "Epoch 89/100\n",
      "404/404 [==============================] - 1s 2ms/step - loss: 16.8379 - mae: 3.0225 - val_loss: 26.3898 - val_mae: 3.4970\n",
      "Epoch 90/100\n",
      "404/404 [==============================] - 1s 2ms/step - loss: 16.4602 - mae: 2.8412 - val_loss: 27.6584 - val_mae: 3.5791\n",
      "Epoch 91/100\n",
      "404/404 [==============================] - 1s 2ms/step - loss: 16.9971 - mae: 2.8893 - val_loss: 30.6408 - val_mae: 3.7484\n",
      "Epoch 92/100\n",
      "404/404 [==============================] - 1s 2ms/step - loss: 16.8817 - mae: 2.9502 - val_loss: 31.8006 - val_mae: 3.7009\n",
      "Epoch 93/100\n",
      "404/404 [==============================] - 1s 2ms/step - loss: 16.5559 - mae: 2.8485 - val_loss: 28.8060 - val_mae: 3.6404\n",
      "Epoch 94/100\n",
      "404/404 [==============================] - 1s 2ms/step - loss: 15.7058 - mae: 2.8619 - val_loss: 40.7189 - val_mae: 4.7536\n",
      "Epoch 95/100\n",
      "404/404 [==============================] - 1s 2ms/step - loss: 15.8195 - mae: 2.8816 - val_loss: 35.5488 - val_mae: 4.0991\n",
      "Epoch 96/100\n",
      "404/404 [==============================] - 1s 2ms/step - loss: 16.8237 - mae: 2.9866 - val_loss: 33.0726 - val_mae: 4.0609\n",
      "Epoch 97/100\n",
      "404/404 [==============================] - 1s 2ms/step - loss: 16.3446 - mae: 2.8886 - val_loss: 30.8864 - val_mae: 3.7557\n",
      "Epoch 98/100\n",
      "404/404 [==============================] - 1s 2ms/step - loss: 17.4780 - mae: 2.9620 - val_loss: 31.2860 - val_mae: 3.7020\n",
      "Epoch 99/100\n",
      "404/404 [==============================] - 1s 2ms/step - loss: 16.7193 - mae: 2.9827 - val_loss: 33.1874 - val_mae: 3.9270\n",
      "Epoch 100/100\n",
      "404/404 [==============================] - 1s 2ms/step - loss: 15.3565 - mae: 2.8106 - val_loss: 27.6001 - val_mae: 3.7340\n"
     ]
    }
   ],
   "source": [
    "model = HousePricePredictionModel()\n",
    "history = model.fit(x=train_x, y=train_y, epochs=num_epochs,batch_size=1,verbose=1,validation_data=(test_x,test_y))"
   ]
  },
  {
   "cell_type": "code",
   "execution_count": 12,
   "metadata": {
    "colab": {
     "base_uri": "https://localhost:8080/"
    },
    "id": "yE2xDkbVRZcy",
    "outputId": "a5d35ed2-55eb-41c9-defa-292bca3d46ed"
   },
   "outputs": [
    {
     "name": "stdout",
     "output_type": "stream",
     "text": [
      "Actual output : 21.1\n",
      "1/1 [==============================] - 0s 123ms/step\n",
      "Prediction output :  [[25.469446]]\n"
     ]
    }
   ],
   "source": [
    "test_input = [[8.65407330e-05,0.00000000e+00,1.13392175e-02,0.00000000e+00,1.12518247e-03,1.31897603e-02,7.53763011e-02,1.30768051e-02,1.09241016e-02,4.89399752e-01,4.41333705e-02,8.67155186e-01,1.75004108e-02]]\n",
    "print(\"Actual output : 21.1\")\n",
    "print(\"Prediction output : \",model.predict(test_input))"
   ]
  },
  {
   "cell_type": "code",
   "execution_count": 12,
   "metadata": {
    "id": "yvU4AC-8UQez"
   },
   "outputs": [],
   "source": []
  }
 ],
 "metadata": {
  "colab": {
   "collapsed_sections": [],
   "provenance": []
  },
  "kernelspec": {
   "display_name": "Python 3 (ipykernel)",
   "language": "python",
   "name": "python3"
  },
  "language_info": {
   "codemirror_mode": {
    "name": "ipython",
    "version": 3
   },
   "file_extension": ".py",
   "mimetype": "text/x-python",
   "name": "python",
   "nbconvert_exporter": "python",
   "pygments_lexer": "ipython3",
   "version": "3.8.13"
  }
 },
 "nbformat": 4,
 "nbformat_minor": 1
}
